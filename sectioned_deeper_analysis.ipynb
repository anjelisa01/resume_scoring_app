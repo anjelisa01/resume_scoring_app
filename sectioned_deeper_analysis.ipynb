{
  "nbformat": 4,
  "nbformat_minor": 0,
  "metadata": {
    "colab": {
      "provenance": [],
      "toc_visible": true,
      "authorship_tag": "ABX9TyN3EpiFyHYGK4V5fdJ60SkS",
      "include_colab_link": true
    },
    "kernelspec": {
      "name": "python3",
      "display_name": "Python 3"
    },
    "language_info": {
      "name": "python"
    },
    "widgets": {
      "application/vnd.jupyter.widget-state+json": {
        "e27e14db72424fca888e029738882ce7": {
          "model_module": "@jupyter-widgets/controls",
          "model_name": "HBoxModel",
          "model_module_version": "1.5.0",
          "state": {
            "_dom_classes": [],
            "_model_module": "@jupyter-widgets/controls",
            "_model_module_version": "1.5.0",
            "_model_name": "HBoxModel",
            "_view_count": null,
            "_view_module": "@jupyter-widgets/controls",
            "_view_module_version": "1.5.0",
            "_view_name": "HBoxView",
            "box_style": "",
            "children": [
              "IPY_MODEL_5fd81cad5f8c4bf9b210310ecd000b7f",
              "IPY_MODEL_84cbb2bf2b6f47f28d3bcc37017e6bfc",
              "IPY_MODEL_d87f4fa8dfdc46f78a94598f7dec8a39"
            ],
            "layout": "IPY_MODEL_da317d08b3b44609bc02ba86e1452f3c"
          }
        },
        "5fd81cad5f8c4bf9b210310ecd000b7f": {
          "model_module": "@jupyter-widgets/controls",
          "model_name": "HTMLModel",
          "model_module_version": "1.5.0",
          "state": {
            "_dom_classes": [],
            "_model_module": "@jupyter-widgets/controls",
            "_model_module_version": "1.5.0",
            "_model_name": "HTMLModel",
            "_view_count": null,
            "_view_module": "@jupyter-widgets/controls",
            "_view_module_version": "1.5.0",
            "_view_name": "HTMLView",
            "description": "",
            "description_tooltip": null,
            "layout": "IPY_MODEL_1ad6ea16f8e94a42b304eb2f9ab49b70",
            "placeholder": "​",
            "style": "IPY_MODEL_5ce452afd5794c61894b3f8d9e248d3e",
            "value": "tokenizer_config.json: 100%"
          }
        },
        "84cbb2bf2b6f47f28d3bcc37017e6bfc": {
          "model_module": "@jupyter-widgets/controls",
          "model_name": "FloatProgressModel",
          "model_module_version": "1.5.0",
          "state": {
            "_dom_classes": [],
            "_model_module": "@jupyter-widgets/controls",
            "_model_module_version": "1.5.0",
            "_model_name": "FloatProgressModel",
            "_view_count": null,
            "_view_module": "@jupyter-widgets/controls",
            "_view_module_version": "1.5.0",
            "_view_name": "ProgressView",
            "bar_style": "success",
            "description": "",
            "description_tooltip": null,
            "layout": "IPY_MODEL_55e018e34a7f452c8e1ad6831080857a",
            "max": 1289,
            "min": 0,
            "orientation": "horizontal",
            "style": "IPY_MODEL_6d8a1a639707460484ae271f8405fc3a",
            "value": 1289
          }
        },
        "d87f4fa8dfdc46f78a94598f7dec8a39": {
          "model_module": "@jupyter-widgets/controls",
          "model_name": "HTMLModel",
          "model_module_version": "1.5.0",
          "state": {
            "_dom_classes": [],
            "_model_module": "@jupyter-widgets/controls",
            "_model_module_version": "1.5.0",
            "_model_name": "HTMLModel",
            "_view_count": null,
            "_view_module": "@jupyter-widgets/controls",
            "_view_module_version": "1.5.0",
            "_view_name": "HTMLView",
            "description": "",
            "description_tooltip": null,
            "layout": "IPY_MODEL_d4bb13026bd741fdade0d27e108fbaba",
            "placeholder": "​",
            "style": "IPY_MODEL_b36060fbd26d4c06b1c6c94472080e14",
            "value": " 1.29k/1.29k [00:00&lt;00:00, 90.3kB/s]"
          }
        },
        "da317d08b3b44609bc02ba86e1452f3c": {
          "model_module": "@jupyter-widgets/base",
          "model_name": "LayoutModel",
          "model_module_version": "1.2.0",
          "state": {
            "_model_module": "@jupyter-widgets/base",
            "_model_module_version": "1.2.0",
            "_model_name": "LayoutModel",
            "_view_count": null,
            "_view_module": "@jupyter-widgets/base",
            "_view_module_version": "1.2.0",
            "_view_name": "LayoutView",
            "align_content": null,
            "align_items": null,
            "align_self": null,
            "border": null,
            "bottom": null,
            "display": null,
            "flex": null,
            "flex_flow": null,
            "grid_area": null,
            "grid_auto_columns": null,
            "grid_auto_flow": null,
            "grid_auto_rows": null,
            "grid_column": null,
            "grid_gap": null,
            "grid_row": null,
            "grid_template_areas": null,
            "grid_template_columns": null,
            "grid_template_rows": null,
            "height": null,
            "justify_content": null,
            "justify_items": null,
            "left": null,
            "margin": null,
            "max_height": null,
            "max_width": null,
            "min_height": null,
            "min_width": null,
            "object_fit": null,
            "object_position": null,
            "order": null,
            "overflow": null,
            "overflow_x": null,
            "overflow_y": null,
            "padding": null,
            "right": null,
            "top": null,
            "visibility": null,
            "width": null
          }
        },
        "1ad6ea16f8e94a42b304eb2f9ab49b70": {
          "model_module": "@jupyter-widgets/base",
          "model_name": "LayoutModel",
          "model_module_version": "1.2.0",
          "state": {
            "_model_module": "@jupyter-widgets/base",
            "_model_module_version": "1.2.0",
            "_model_name": "LayoutModel",
            "_view_count": null,
            "_view_module": "@jupyter-widgets/base",
            "_view_module_version": "1.2.0",
            "_view_name": "LayoutView",
            "align_content": null,
            "align_items": null,
            "align_self": null,
            "border": null,
            "bottom": null,
            "display": null,
            "flex": null,
            "flex_flow": null,
            "grid_area": null,
            "grid_auto_columns": null,
            "grid_auto_flow": null,
            "grid_auto_rows": null,
            "grid_column": null,
            "grid_gap": null,
            "grid_row": null,
            "grid_template_areas": null,
            "grid_template_columns": null,
            "grid_template_rows": null,
            "height": null,
            "justify_content": null,
            "justify_items": null,
            "left": null,
            "margin": null,
            "max_height": null,
            "max_width": null,
            "min_height": null,
            "min_width": null,
            "object_fit": null,
            "object_position": null,
            "order": null,
            "overflow": null,
            "overflow_x": null,
            "overflow_y": null,
            "padding": null,
            "right": null,
            "top": null,
            "visibility": null,
            "width": null
          }
        },
        "5ce452afd5794c61894b3f8d9e248d3e": {
          "model_module": "@jupyter-widgets/controls",
          "model_name": "DescriptionStyleModel",
          "model_module_version": "1.5.0",
          "state": {
            "_model_module": "@jupyter-widgets/controls",
            "_model_module_version": "1.5.0",
            "_model_name": "DescriptionStyleModel",
            "_view_count": null,
            "_view_module": "@jupyter-widgets/base",
            "_view_module_version": "1.2.0",
            "_view_name": "StyleView",
            "description_width": ""
          }
        },
        "55e018e34a7f452c8e1ad6831080857a": {
          "model_module": "@jupyter-widgets/base",
          "model_name": "LayoutModel",
          "model_module_version": "1.2.0",
          "state": {
            "_model_module": "@jupyter-widgets/base",
            "_model_module_version": "1.2.0",
            "_model_name": "LayoutModel",
            "_view_count": null,
            "_view_module": "@jupyter-widgets/base",
            "_view_module_version": "1.2.0",
            "_view_name": "LayoutView",
            "align_content": null,
            "align_items": null,
            "align_self": null,
            "border": null,
            "bottom": null,
            "display": null,
            "flex": null,
            "flex_flow": null,
            "grid_area": null,
            "grid_auto_columns": null,
            "grid_auto_flow": null,
            "grid_auto_rows": null,
            "grid_column": null,
            "grid_gap": null,
            "grid_row": null,
            "grid_template_areas": null,
            "grid_template_columns": null,
            "grid_template_rows": null,
            "height": null,
            "justify_content": null,
            "justify_items": null,
            "left": null,
            "margin": null,
            "max_height": null,
            "max_width": null,
            "min_height": null,
            "min_width": null,
            "object_fit": null,
            "object_position": null,
            "order": null,
            "overflow": null,
            "overflow_x": null,
            "overflow_y": null,
            "padding": null,
            "right": null,
            "top": null,
            "visibility": null,
            "width": null
          }
        },
        "6d8a1a639707460484ae271f8405fc3a": {
          "model_module": "@jupyter-widgets/controls",
          "model_name": "ProgressStyleModel",
          "model_module_version": "1.5.0",
          "state": {
            "_model_module": "@jupyter-widgets/controls",
            "_model_module_version": "1.5.0",
            "_model_name": "ProgressStyleModel",
            "_view_count": null,
            "_view_module": "@jupyter-widgets/base",
            "_view_module_version": "1.2.0",
            "_view_name": "StyleView",
            "bar_color": null,
            "description_width": ""
          }
        },
        "d4bb13026bd741fdade0d27e108fbaba": {
          "model_module": "@jupyter-widgets/base",
          "model_name": "LayoutModel",
          "model_module_version": "1.2.0",
          "state": {
            "_model_module": "@jupyter-widgets/base",
            "_model_module_version": "1.2.0",
            "_model_name": "LayoutModel",
            "_view_count": null,
            "_view_module": "@jupyter-widgets/base",
            "_view_module_version": "1.2.0",
            "_view_name": "LayoutView",
            "align_content": null,
            "align_items": null,
            "align_self": null,
            "border": null,
            "bottom": null,
            "display": null,
            "flex": null,
            "flex_flow": null,
            "grid_area": null,
            "grid_auto_columns": null,
            "grid_auto_flow": null,
            "grid_auto_rows": null,
            "grid_column": null,
            "grid_gap": null,
            "grid_row": null,
            "grid_template_areas": null,
            "grid_template_columns": null,
            "grid_template_rows": null,
            "height": null,
            "justify_content": null,
            "justify_items": null,
            "left": null,
            "margin": null,
            "max_height": null,
            "max_width": null,
            "min_height": null,
            "min_width": null,
            "object_fit": null,
            "object_position": null,
            "order": null,
            "overflow": null,
            "overflow_x": null,
            "overflow_y": null,
            "padding": null,
            "right": null,
            "top": null,
            "visibility": null,
            "width": null
          }
        },
        "b36060fbd26d4c06b1c6c94472080e14": {
          "model_module": "@jupyter-widgets/controls",
          "model_name": "DescriptionStyleModel",
          "model_module_version": "1.5.0",
          "state": {
            "_model_module": "@jupyter-widgets/controls",
            "_model_module_version": "1.5.0",
            "_model_name": "DescriptionStyleModel",
            "_view_count": null,
            "_view_module": "@jupyter-widgets/base",
            "_view_module_version": "1.2.0",
            "_view_name": "StyleView",
            "description_width": ""
          }
        },
        "8dc35b7fc3504601bef3119e28533839": {
          "model_module": "@jupyter-widgets/controls",
          "model_name": "HBoxModel",
          "model_module_version": "1.5.0",
          "state": {
            "_dom_classes": [],
            "_model_module": "@jupyter-widgets/controls",
            "_model_module_version": "1.5.0",
            "_model_name": "HBoxModel",
            "_view_count": null,
            "_view_module": "@jupyter-widgets/controls",
            "_view_module_version": "1.5.0",
            "_view_name": "HBoxView",
            "box_style": "",
            "children": [
              "IPY_MODEL_2805de2ec9c443b4914402159d36e10a",
              "IPY_MODEL_3873391ec87e4b9292c7403b02489070",
              "IPY_MODEL_8c2e45c1f9ce41c68d379037a19a864a"
            ],
            "layout": "IPY_MODEL_26ebf1dc10fa428f8f71d8f60d74559b"
          }
        },
        "2805de2ec9c443b4914402159d36e10a": {
          "model_module": "@jupyter-widgets/controls",
          "model_name": "HTMLModel",
          "model_module_version": "1.5.0",
          "state": {
            "_dom_classes": [],
            "_model_module": "@jupyter-widgets/controls",
            "_model_module_version": "1.5.0",
            "_model_name": "HTMLModel",
            "_view_count": null,
            "_view_module": "@jupyter-widgets/controls",
            "_view_module_version": "1.5.0",
            "_view_name": "HTMLView",
            "description": "",
            "description_tooltip": null,
            "layout": "IPY_MODEL_131cb14ff9cc40869d733b6a3bdad7bb",
            "placeholder": "​",
            "style": "IPY_MODEL_c0192898605c483181249e59c0314076",
            "value": "tokenizer.model: 100%"
          }
        },
        "3873391ec87e4b9292c7403b02489070": {
          "model_module": "@jupyter-widgets/controls",
          "model_name": "FloatProgressModel",
          "model_module_version": "1.5.0",
          "state": {
            "_dom_classes": [],
            "_model_module": "@jupyter-widgets/controls",
            "_model_module_version": "1.5.0",
            "_model_name": "FloatProgressModel",
            "_view_count": null,
            "_view_module": "@jupyter-widgets/controls",
            "_view_module_version": "1.5.0",
            "_view_name": "ProgressView",
            "bar_style": "success",
            "description": "",
            "description_tooltip": null,
            "layout": "IPY_MODEL_00d2942da26a46b3a36a0febbc700ca8",
            "max": 499723,
            "min": 0,
            "orientation": "horizontal",
            "style": "IPY_MODEL_b740fe46ad9d43ebb6e8e2abb5904768",
            "value": 499723
          }
        },
        "8c2e45c1f9ce41c68d379037a19a864a": {
          "model_module": "@jupyter-widgets/controls",
          "model_name": "HTMLModel",
          "model_module_version": "1.5.0",
          "state": {
            "_dom_classes": [],
            "_model_module": "@jupyter-widgets/controls",
            "_model_module_version": "1.5.0",
            "_model_name": "HTMLModel",
            "_view_count": null,
            "_view_module": "@jupyter-widgets/controls",
            "_view_module_version": "1.5.0",
            "_view_name": "HTMLView",
            "description": "",
            "description_tooltip": null,
            "layout": "IPY_MODEL_102ddf6153434fa7a8f564beb24ef57b",
            "placeholder": "​",
            "style": "IPY_MODEL_18f1f013dd794a6ca76bb65e1388da0f",
            "value": " 500k/500k [00:00&lt;00:00, 6.04MB/s]"
          }
        },
        "26ebf1dc10fa428f8f71d8f60d74559b": {
          "model_module": "@jupyter-widgets/base",
          "model_name": "LayoutModel",
          "model_module_version": "1.2.0",
          "state": {
            "_model_module": "@jupyter-widgets/base",
            "_model_module_version": "1.2.0",
            "_model_name": "LayoutModel",
            "_view_count": null,
            "_view_module": "@jupyter-widgets/base",
            "_view_module_version": "1.2.0",
            "_view_name": "LayoutView",
            "align_content": null,
            "align_items": null,
            "align_self": null,
            "border": null,
            "bottom": null,
            "display": null,
            "flex": null,
            "flex_flow": null,
            "grid_area": null,
            "grid_auto_columns": null,
            "grid_auto_flow": null,
            "grid_auto_rows": null,
            "grid_column": null,
            "grid_gap": null,
            "grid_row": null,
            "grid_template_areas": null,
            "grid_template_columns": null,
            "grid_template_rows": null,
            "height": null,
            "justify_content": null,
            "justify_items": null,
            "left": null,
            "margin": null,
            "max_height": null,
            "max_width": null,
            "min_height": null,
            "min_width": null,
            "object_fit": null,
            "object_position": null,
            "order": null,
            "overflow": null,
            "overflow_x": null,
            "overflow_y": null,
            "padding": null,
            "right": null,
            "top": null,
            "visibility": null,
            "width": null
          }
        },
        "131cb14ff9cc40869d733b6a3bdad7bb": {
          "model_module": "@jupyter-widgets/base",
          "model_name": "LayoutModel",
          "model_module_version": "1.2.0",
          "state": {
            "_model_module": "@jupyter-widgets/base",
            "_model_module_version": "1.2.0",
            "_model_name": "LayoutModel",
            "_view_count": null,
            "_view_module": "@jupyter-widgets/base",
            "_view_module_version": "1.2.0",
            "_view_name": "LayoutView",
            "align_content": null,
            "align_items": null,
            "align_self": null,
            "border": null,
            "bottom": null,
            "display": null,
            "flex": null,
            "flex_flow": null,
            "grid_area": null,
            "grid_auto_columns": null,
            "grid_auto_flow": null,
            "grid_auto_rows": null,
            "grid_column": null,
            "grid_gap": null,
            "grid_row": null,
            "grid_template_areas": null,
            "grid_template_columns": null,
            "grid_template_rows": null,
            "height": null,
            "justify_content": null,
            "justify_items": null,
            "left": null,
            "margin": null,
            "max_height": null,
            "max_width": null,
            "min_height": null,
            "min_width": null,
            "object_fit": null,
            "object_position": null,
            "order": null,
            "overflow": null,
            "overflow_x": null,
            "overflow_y": null,
            "padding": null,
            "right": null,
            "top": null,
            "visibility": null,
            "width": null
          }
        },
        "c0192898605c483181249e59c0314076": {
          "model_module": "@jupyter-widgets/controls",
          "model_name": "DescriptionStyleModel",
          "model_module_version": "1.5.0",
          "state": {
            "_model_module": "@jupyter-widgets/controls",
            "_model_module_version": "1.5.0",
            "_model_name": "DescriptionStyleModel",
            "_view_count": null,
            "_view_module": "@jupyter-widgets/base",
            "_view_module_version": "1.2.0",
            "_view_name": "StyleView",
            "description_width": ""
          }
        },
        "00d2942da26a46b3a36a0febbc700ca8": {
          "model_module": "@jupyter-widgets/base",
          "model_name": "LayoutModel",
          "model_module_version": "1.2.0",
          "state": {
            "_model_module": "@jupyter-widgets/base",
            "_model_module_version": "1.2.0",
            "_model_name": "LayoutModel",
            "_view_count": null,
            "_view_module": "@jupyter-widgets/base",
            "_view_module_version": "1.2.0",
            "_view_name": "LayoutView",
            "align_content": null,
            "align_items": null,
            "align_self": null,
            "border": null,
            "bottom": null,
            "display": null,
            "flex": null,
            "flex_flow": null,
            "grid_area": null,
            "grid_auto_columns": null,
            "grid_auto_flow": null,
            "grid_auto_rows": null,
            "grid_column": null,
            "grid_gap": null,
            "grid_row": null,
            "grid_template_areas": null,
            "grid_template_columns": null,
            "grid_template_rows": null,
            "height": null,
            "justify_content": null,
            "justify_items": null,
            "left": null,
            "margin": null,
            "max_height": null,
            "max_width": null,
            "min_height": null,
            "min_width": null,
            "object_fit": null,
            "object_position": null,
            "order": null,
            "overflow": null,
            "overflow_x": null,
            "overflow_y": null,
            "padding": null,
            "right": null,
            "top": null,
            "visibility": null,
            "width": null
          }
        },
        "b740fe46ad9d43ebb6e8e2abb5904768": {
          "model_module": "@jupyter-widgets/controls",
          "model_name": "ProgressStyleModel",
          "model_module_version": "1.5.0",
          "state": {
            "_model_module": "@jupyter-widgets/controls",
            "_model_module_version": "1.5.0",
            "_model_name": "ProgressStyleModel",
            "_view_count": null,
            "_view_module": "@jupyter-widgets/base",
            "_view_module_version": "1.2.0",
            "_view_name": "StyleView",
            "bar_color": null,
            "description_width": ""
          }
        },
        "102ddf6153434fa7a8f564beb24ef57b": {
          "model_module": "@jupyter-widgets/base",
          "model_name": "LayoutModel",
          "model_module_version": "1.2.0",
          "state": {
            "_model_module": "@jupyter-widgets/base",
            "_model_module_version": "1.2.0",
            "_model_name": "LayoutModel",
            "_view_count": null,
            "_view_module": "@jupyter-widgets/base",
            "_view_module_version": "1.2.0",
            "_view_name": "LayoutView",
            "align_content": null,
            "align_items": null,
            "align_self": null,
            "border": null,
            "bottom": null,
            "display": null,
            "flex": null,
            "flex_flow": null,
            "grid_area": null,
            "grid_auto_columns": null,
            "grid_auto_flow": null,
            "grid_auto_rows": null,
            "grid_column": null,
            "grid_gap": null,
            "grid_row": null,
            "grid_template_areas": null,
            "grid_template_columns": null,
            "grid_template_rows": null,
            "height": null,
            "justify_content": null,
            "justify_items": null,
            "left": null,
            "margin": null,
            "max_height": null,
            "max_width": null,
            "min_height": null,
            "min_width": null,
            "object_fit": null,
            "object_position": null,
            "order": null,
            "overflow": null,
            "overflow_x": null,
            "overflow_y": null,
            "padding": null,
            "right": null,
            "top": null,
            "visibility": null,
            "width": null
          }
        },
        "18f1f013dd794a6ca76bb65e1388da0f": {
          "model_module": "@jupyter-widgets/controls",
          "model_name": "DescriptionStyleModel",
          "model_module_version": "1.5.0",
          "state": {
            "_model_module": "@jupyter-widgets/controls",
            "_model_module_version": "1.5.0",
            "_model_name": "DescriptionStyleModel",
            "_view_count": null,
            "_view_module": "@jupyter-widgets/base",
            "_view_module_version": "1.2.0",
            "_view_name": "StyleView",
            "description_width": ""
          }
        },
        "444d913a92dd42968e2c8d8b08b932ca": {
          "model_module": "@jupyter-widgets/controls",
          "model_name": "HBoxModel",
          "model_module_version": "1.5.0",
          "state": {
            "_dom_classes": [],
            "_model_module": "@jupyter-widgets/controls",
            "_model_module_version": "1.5.0",
            "_model_name": "HBoxModel",
            "_view_count": null,
            "_view_module": "@jupyter-widgets/controls",
            "_view_module_version": "1.5.0",
            "_view_name": "HBoxView",
            "box_style": "",
            "children": [
              "IPY_MODEL_877efe5a558e47079f362ab5dec9adac",
              "IPY_MODEL_afed7b71bd314a598d04e109c8262dc5",
              "IPY_MODEL_cd7a7f5fa69441ba90518780e272f49c"
            ],
            "layout": "IPY_MODEL_7ed802074a3f4c7dbdf1f7b99ccd120e"
          }
        },
        "877efe5a558e47079f362ab5dec9adac": {
          "model_module": "@jupyter-widgets/controls",
          "model_name": "HTMLModel",
          "model_module_version": "1.5.0",
          "state": {
            "_dom_classes": [],
            "_model_module": "@jupyter-widgets/controls",
            "_model_module_version": "1.5.0",
            "_model_name": "HTMLModel",
            "_view_count": null,
            "_view_module": "@jupyter-widgets/controls",
            "_view_module_version": "1.5.0",
            "_view_name": "HTMLView",
            "description": "",
            "description_tooltip": null,
            "layout": "IPY_MODEL_bb3f6262b10f45eca364deb08e9ef095",
            "placeholder": "​",
            "style": "IPY_MODEL_a7774eb66f98476fbd8d89bdde2d6b4d",
            "value": "tokenizer.json: 100%"
          }
        },
        "afed7b71bd314a598d04e109c8262dc5": {
          "model_module": "@jupyter-widgets/controls",
          "model_name": "FloatProgressModel",
          "model_module_version": "1.5.0",
          "state": {
            "_dom_classes": [],
            "_model_module": "@jupyter-widgets/controls",
            "_model_module_version": "1.5.0",
            "_model_name": "FloatProgressModel",
            "_view_count": null,
            "_view_module": "@jupyter-widgets/controls",
            "_view_module_version": "1.5.0",
            "_view_name": "ProgressView",
            "bar_style": "success",
            "description": "",
            "description_tooltip": null,
            "layout": "IPY_MODEL_4815b6680cb649ba804f8181443502dd",
            "max": 1842767,
            "min": 0,
            "orientation": "horizontal",
            "style": "IPY_MODEL_d2273bafd2d346afade7b9d0af08cfbc",
            "value": 1842767
          }
        },
        "cd7a7f5fa69441ba90518780e272f49c": {
          "model_module": "@jupyter-widgets/controls",
          "model_name": "HTMLModel",
          "model_module_version": "1.5.0",
          "state": {
            "_dom_classes": [],
            "_model_module": "@jupyter-widgets/controls",
            "_model_module_version": "1.5.0",
            "_model_name": "HTMLModel",
            "_view_count": null,
            "_view_module": "@jupyter-widgets/controls",
            "_view_module_version": "1.5.0",
            "_view_name": "HTMLView",
            "description": "",
            "description_tooltip": null,
            "layout": "IPY_MODEL_ad4f56db4bef4ecc881d6ffc3a9d3fd5",
            "placeholder": "​",
            "style": "IPY_MODEL_fd9d17a34b364bbf8e9ca2f0147bf34d",
            "value": " 1.84M/1.84M [00:00&lt;00:00, 10.3MB/s]"
          }
        },
        "7ed802074a3f4c7dbdf1f7b99ccd120e": {
          "model_module": "@jupyter-widgets/base",
          "model_name": "LayoutModel",
          "model_module_version": "1.2.0",
          "state": {
            "_model_module": "@jupyter-widgets/base",
            "_model_module_version": "1.2.0",
            "_model_name": "LayoutModel",
            "_view_count": null,
            "_view_module": "@jupyter-widgets/base",
            "_view_module_version": "1.2.0",
            "_view_name": "LayoutView",
            "align_content": null,
            "align_items": null,
            "align_self": null,
            "border": null,
            "bottom": null,
            "display": null,
            "flex": null,
            "flex_flow": null,
            "grid_area": null,
            "grid_auto_columns": null,
            "grid_auto_flow": null,
            "grid_auto_rows": null,
            "grid_column": null,
            "grid_gap": null,
            "grid_row": null,
            "grid_template_areas": null,
            "grid_template_columns": null,
            "grid_template_rows": null,
            "height": null,
            "justify_content": null,
            "justify_items": null,
            "left": null,
            "margin": null,
            "max_height": null,
            "max_width": null,
            "min_height": null,
            "min_width": null,
            "object_fit": null,
            "object_position": null,
            "order": null,
            "overflow": null,
            "overflow_x": null,
            "overflow_y": null,
            "padding": null,
            "right": null,
            "top": null,
            "visibility": null,
            "width": null
          }
        },
        "bb3f6262b10f45eca364deb08e9ef095": {
          "model_module": "@jupyter-widgets/base",
          "model_name": "LayoutModel",
          "model_module_version": "1.2.0",
          "state": {
            "_model_module": "@jupyter-widgets/base",
            "_model_module_version": "1.2.0",
            "_model_name": "LayoutModel",
            "_view_count": null,
            "_view_module": "@jupyter-widgets/base",
            "_view_module_version": "1.2.0",
            "_view_name": "LayoutView",
            "align_content": null,
            "align_items": null,
            "align_self": null,
            "border": null,
            "bottom": null,
            "display": null,
            "flex": null,
            "flex_flow": null,
            "grid_area": null,
            "grid_auto_columns": null,
            "grid_auto_flow": null,
            "grid_auto_rows": null,
            "grid_column": null,
            "grid_gap": null,
            "grid_row": null,
            "grid_template_areas": null,
            "grid_template_columns": null,
            "grid_template_rows": null,
            "height": null,
            "justify_content": null,
            "justify_items": null,
            "left": null,
            "margin": null,
            "max_height": null,
            "max_width": null,
            "min_height": null,
            "min_width": null,
            "object_fit": null,
            "object_position": null,
            "order": null,
            "overflow": null,
            "overflow_x": null,
            "overflow_y": null,
            "padding": null,
            "right": null,
            "top": null,
            "visibility": null,
            "width": null
          }
        },
        "a7774eb66f98476fbd8d89bdde2d6b4d": {
          "model_module": "@jupyter-widgets/controls",
          "model_name": "DescriptionStyleModel",
          "model_module_version": "1.5.0",
          "state": {
            "_model_module": "@jupyter-widgets/controls",
            "_model_module_version": "1.5.0",
            "_model_name": "DescriptionStyleModel",
            "_view_count": null,
            "_view_module": "@jupyter-widgets/base",
            "_view_module_version": "1.2.0",
            "_view_name": "StyleView",
            "description_width": ""
          }
        },
        "4815b6680cb649ba804f8181443502dd": {
          "model_module": "@jupyter-widgets/base",
          "model_name": "LayoutModel",
          "model_module_version": "1.2.0",
          "state": {
            "_model_module": "@jupyter-widgets/base",
            "_model_module_version": "1.2.0",
            "_model_name": "LayoutModel",
            "_view_count": null,
            "_view_module": "@jupyter-widgets/base",
            "_view_module_version": "1.2.0",
            "_view_name": "LayoutView",
            "align_content": null,
            "align_items": null,
            "align_self": null,
            "border": null,
            "bottom": null,
            "display": null,
            "flex": null,
            "flex_flow": null,
            "grid_area": null,
            "grid_auto_columns": null,
            "grid_auto_flow": null,
            "grid_auto_rows": null,
            "grid_column": null,
            "grid_gap": null,
            "grid_row": null,
            "grid_template_areas": null,
            "grid_template_columns": null,
            "grid_template_rows": null,
            "height": null,
            "justify_content": null,
            "justify_items": null,
            "left": null,
            "margin": null,
            "max_height": null,
            "max_width": null,
            "min_height": null,
            "min_width": null,
            "object_fit": null,
            "object_position": null,
            "order": null,
            "overflow": null,
            "overflow_x": null,
            "overflow_y": null,
            "padding": null,
            "right": null,
            "top": null,
            "visibility": null,
            "width": null
          }
        },
        "d2273bafd2d346afade7b9d0af08cfbc": {
          "model_module": "@jupyter-widgets/controls",
          "model_name": "ProgressStyleModel",
          "model_module_version": "1.5.0",
          "state": {
            "_model_module": "@jupyter-widgets/controls",
            "_model_module_version": "1.5.0",
            "_model_name": "ProgressStyleModel",
            "_view_count": null,
            "_view_module": "@jupyter-widgets/base",
            "_view_module_version": "1.2.0",
            "_view_name": "StyleView",
            "bar_color": null,
            "description_width": ""
          }
        },
        "ad4f56db4bef4ecc881d6ffc3a9d3fd5": {
          "model_module": "@jupyter-widgets/base",
          "model_name": "LayoutModel",
          "model_module_version": "1.2.0",
          "state": {
            "_model_module": "@jupyter-widgets/base",
            "_model_module_version": "1.2.0",
            "_model_name": "LayoutModel",
            "_view_count": null,
            "_view_module": "@jupyter-widgets/base",
            "_view_module_version": "1.2.0",
            "_view_name": "LayoutView",
            "align_content": null,
            "align_items": null,
            "align_self": null,
            "border": null,
            "bottom": null,
            "display": null,
            "flex": null,
            "flex_flow": null,
            "grid_area": null,
            "grid_auto_columns": null,
            "grid_auto_flow": null,
            "grid_auto_rows": null,
            "grid_column": null,
            "grid_gap": null,
            "grid_row": null,
            "grid_template_areas": null,
            "grid_template_columns": null,
            "grid_template_rows": null,
            "height": null,
            "justify_content": null,
            "justify_items": null,
            "left": null,
            "margin": null,
            "max_height": null,
            "max_width": null,
            "min_height": null,
            "min_width": null,
            "object_fit": null,
            "object_position": null,
            "order": null,
            "overflow": null,
            "overflow_x": null,
            "overflow_y": null,
            "padding": null,
            "right": null,
            "top": null,
            "visibility": null,
            "width": null
          }
        },
        "fd9d17a34b364bbf8e9ca2f0147bf34d": {
          "model_module": "@jupyter-widgets/controls",
          "model_name": "DescriptionStyleModel",
          "model_module_version": "1.5.0",
          "state": {
            "_model_module": "@jupyter-widgets/controls",
            "_model_module_version": "1.5.0",
            "_model_name": "DescriptionStyleModel",
            "_view_count": null,
            "_view_module": "@jupyter-widgets/base",
            "_view_module_version": "1.2.0",
            "_view_name": "StyleView",
            "description_width": ""
          }
        },
        "96a3c6d24c7c46ffab5633400825fe85": {
          "model_module": "@jupyter-widgets/controls",
          "model_name": "HBoxModel",
          "model_module_version": "1.5.0",
          "state": {
            "_dom_classes": [],
            "_model_module": "@jupyter-widgets/controls",
            "_model_module_version": "1.5.0",
            "_model_name": "HBoxModel",
            "_view_count": null,
            "_view_module": "@jupyter-widgets/controls",
            "_view_module_version": "1.5.0",
            "_view_name": "HBoxView",
            "box_style": "",
            "children": [
              "IPY_MODEL_a9408fbc69f7415f82c9621c6f472c68",
              "IPY_MODEL_6b450d22922a4d3598a312e89794a8fe",
              "IPY_MODEL_83349961ae2c4a409e424cdeb083f079"
            ],
            "layout": "IPY_MODEL_6693b597647541c19669ded57d859caf"
          }
        },
        "a9408fbc69f7415f82c9621c6f472c68": {
          "model_module": "@jupyter-widgets/controls",
          "model_name": "HTMLModel",
          "model_module_version": "1.5.0",
          "state": {
            "_dom_classes": [],
            "_model_module": "@jupyter-widgets/controls",
            "_model_module_version": "1.5.0",
            "_model_name": "HTMLModel",
            "_view_count": null,
            "_view_module": "@jupyter-widgets/controls",
            "_view_module_version": "1.5.0",
            "_view_name": "HTMLView",
            "description": "",
            "description_tooltip": null,
            "layout": "IPY_MODEL_ac822f5de81a413f9f8160e4e3adbf3b",
            "placeholder": "​",
            "style": "IPY_MODEL_8ef0f2d863ba47faab53c59feeb43dde",
            "value": "special_tokens_map.json: 100%"
          }
        },
        "6b450d22922a4d3598a312e89794a8fe": {
          "model_module": "@jupyter-widgets/controls",
          "model_name": "FloatProgressModel",
          "model_module_version": "1.5.0",
          "state": {
            "_dom_classes": [],
            "_model_module": "@jupyter-widgets/controls",
            "_model_module_version": "1.5.0",
            "_model_name": "FloatProgressModel",
            "_view_count": null,
            "_view_module": "@jupyter-widgets/controls",
            "_view_module_version": "1.5.0",
            "_view_name": "ProgressView",
            "bar_style": "success",
            "description": "",
            "description_tooltip": null,
            "layout": "IPY_MODEL_60f58d43f12142e892152158729f0370",
            "max": 551,
            "min": 0,
            "orientation": "horizontal",
            "style": "IPY_MODEL_bc4ff59958a946388d23785b3bf3dd87",
            "value": 551
          }
        },
        "83349961ae2c4a409e424cdeb083f079": {
          "model_module": "@jupyter-widgets/controls",
          "model_name": "HTMLModel",
          "model_module_version": "1.5.0",
          "state": {
            "_dom_classes": [],
            "_model_module": "@jupyter-widgets/controls",
            "_model_module_version": "1.5.0",
            "_model_name": "HTMLModel",
            "_view_count": null,
            "_view_module": "@jupyter-widgets/controls",
            "_view_module_version": "1.5.0",
            "_view_name": "HTMLView",
            "description": "",
            "description_tooltip": null,
            "layout": "IPY_MODEL_47fce0de32004746b389b889451e4a69",
            "placeholder": "​",
            "style": "IPY_MODEL_283665d687824ad4a397fec54bcaa063",
            "value": " 551/551 [00:00&lt;00:00, 35.5kB/s]"
          }
        },
        "6693b597647541c19669ded57d859caf": {
          "model_module": "@jupyter-widgets/base",
          "model_name": "LayoutModel",
          "model_module_version": "1.2.0",
          "state": {
            "_model_module": "@jupyter-widgets/base",
            "_model_module_version": "1.2.0",
            "_model_name": "LayoutModel",
            "_view_count": null,
            "_view_module": "@jupyter-widgets/base",
            "_view_module_version": "1.2.0",
            "_view_name": "LayoutView",
            "align_content": null,
            "align_items": null,
            "align_self": null,
            "border": null,
            "bottom": null,
            "display": null,
            "flex": null,
            "flex_flow": null,
            "grid_area": null,
            "grid_auto_columns": null,
            "grid_auto_flow": null,
            "grid_auto_rows": null,
            "grid_column": null,
            "grid_gap": null,
            "grid_row": null,
            "grid_template_areas": null,
            "grid_template_columns": null,
            "grid_template_rows": null,
            "height": null,
            "justify_content": null,
            "justify_items": null,
            "left": null,
            "margin": null,
            "max_height": null,
            "max_width": null,
            "min_height": null,
            "min_width": null,
            "object_fit": null,
            "object_position": null,
            "order": null,
            "overflow": null,
            "overflow_x": null,
            "overflow_y": null,
            "padding": null,
            "right": null,
            "top": null,
            "visibility": null,
            "width": null
          }
        },
        "ac822f5de81a413f9f8160e4e3adbf3b": {
          "model_module": "@jupyter-widgets/base",
          "model_name": "LayoutModel",
          "model_module_version": "1.2.0",
          "state": {
            "_model_module": "@jupyter-widgets/base",
            "_model_module_version": "1.2.0",
            "_model_name": "LayoutModel",
            "_view_count": null,
            "_view_module": "@jupyter-widgets/base",
            "_view_module_version": "1.2.0",
            "_view_name": "LayoutView",
            "align_content": null,
            "align_items": null,
            "align_self": null,
            "border": null,
            "bottom": null,
            "display": null,
            "flex": null,
            "flex_flow": null,
            "grid_area": null,
            "grid_auto_columns": null,
            "grid_auto_flow": null,
            "grid_auto_rows": null,
            "grid_column": null,
            "grid_gap": null,
            "grid_row": null,
            "grid_template_areas": null,
            "grid_template_columns": null,
            "grid_template_rows": null,
            "height": null,
            "justify_content": null,
            "justify_items": null,
            "left": null,
            "margin": null,
            "max_height": null,
            "max_width": null,
            "min_height": null,
            "min_width": null,
            "object_fit": null,
            "object_position": null,
            "order": null,
            "overflow": null,
            "overflow_x": null,
            "overflow_y": null,
            "padding": null,
            "right": null,
            "top": null,
            "visibility": null,
            "width": null
          }
        },
        "8ef0f2d863ba47faab53c59feeb43dde": {
          "model_module": "@jupyter-widgets/controls",
          "model_name": "DescriptionStyleModel",
          "model_module_version": "1.5.0",
          "state": {
            "_model_module": "@jupyter-widgets/controls",
            "_model_module_version": "1.5.0",
            "_model_name": "DescriptionStyleModel",
            "_view_count": null,
            "_view_module": "@jupyter-widgets/base",
            "_view_module_version": "1.2.0",
            "_view_name": "StyleView",
            "description_width": ""
          }
        },
        "60f58d43f12142e892152158729f0370": {
          "model_module": "@jupyter-widgets/base",
          "model_name": "LayoutModel",
          "model_module_version": "1.2.0",
          "state": {
            "_model_module": "@jupyter-widgets/base",
            "_model_module_version": "1.2.0",
            "_model_name": "LayoutModel",
            "_view_count": null,
            "_view_module": "@jupyter-widgets/base",
            "_view_module_version": "1.2.0",
            "_view_name": "LayoutView",
            "align_content": null,
            "align_items": null,
            "align_self": null,
            "border": null,
            "bottom": null,
            "display": null,
            "flex": null,
            "flex_flow": null,
            "grid_area": null,
            "grid_auto_columns": null,
            "grid_auto_flow": null,
            "grid_auto_rows": null,
            "grid_column": null,
            "grid_gap": null,
            "grid_row": null,
            "grid_template_areas": null,
            "grid_template_columns": null,
            "grid_template_rows": null,
            "height": null,
            "justify_content": null,
            "justify_items": null,
            "left": null,
            "margin": null,
            "max_height": null,
            "max_width": null,
            "min_height": null,
            "min_width": null,
            "object_fit": null,
            "object_position": null,
            "order": null,
            "overflow": null,
            "overflow_x": null,
            "overflow_y": null,
            "padding": null,
            "right": null,
            "top": null,
            "visibility": null,
            "width": null
          }
        },
        "bc4ff59958a946388d23785b3bf3dd87": {
          "model_module": "@jupyter-widgets/controls",
          "model_name": "ProgressStyleModel",
          "model_module_version": "1.5.0",
          "state": {
            "_model_module": "@jupyter-widgets/controls",
            "_model_module_version": "1.5.0",
            "_model_name": "ProgressStyleModel",
            "_view_count": null,
            "_view_module": "@jupyter-widgets/base",
            "_view_module_version": "1.2.0",
            "_view_name": "StyleView",
            "bar_color": null,
            "description_width": ""
          }
        },
        "47fce0de32004746b389b889451e4a69": {
          "model_module": "@jupyter-widgets/base",
          "model_name": "LayoutModel",
          "model_module_version": "1.2.0",
          "state": {
            "_model_module": "@jupyter-widgets/base",
            "_model_module_version": "1.2.0",
            "_model_name": "LayoutModel",
            "_view_count": null,
            "_view_module": "@jupyter-widgets/base",
            "_view_module_version": "1.2.0",
            "_view_name": "LayoutView",
            "align_content": null,
            "align_items": null,
            "align_self": null,
            "border": null,
            "bottom": null,
            "display": null,
            "flex": null,
            "flex_flow": null,
            "grid_area": null,
            "grid_auto_columns": null,
            "grid_auto_flow": null,
            "grid_auto_rows": null,
            "grid_column": null,
            "grid_gap": null,
            "grid_row": null,
            "grid_template_areas": null,
            "grid_template_columns": null,
            "grid_template_rows": null,
            "height": null,
            "justify_content": null,
            "justify_items": null,
            "left": null,
            "margin": null,
            "max_height": null,
            "max_width": null,
            "min_height": null,
            "min_width": null,
            "object_fit": null,
            "object_position": null,
            "order": null,
            "overflow": null,
            "overflow_x": null,
            "overflow_y": null,
            "padding": null,
            "right": null,
            "top": null,
            "visibility": null,
            "width": null
          }
        },
        "283665d687824ad4a397fec54bcaa063": {
          "model_module": "@jupyter-widgets/controls",
          "model_name": "DescriptionStyleModel",
          "model_module_version": "1.5.0",
          "state": {
            "_model_module": "@jupyter-widgets/controls",
            "_model_module_version": "1.5.0",
            "_model_name": "DescriptionStyleModel",
            "_view_count": null,
            "_view_module": "@jupyter-widgets/base",
            "_view_module_version": "1.2.0",
            "_view_name": "StyleView",
            "description_width": ""
          }
        },
        "020560385b4447789c3b4790f6e81b28": {
          "model_module": "@jupyter-widgets/controls",
          "model_name": "HBoxModel",
          "model_module_version": "1.5.0",
          "state": {
            "_dom_classes": [],
            "_model_module": "@jupyter-widgets/controls",
            "_model_module_version": "1.5.0",
            "_model_name": "HBoxModel",
            "_view_count": null,
            "_view_module": "@jupyter-widgets/controls",
            "_view_module_version": "1.5.0",
            "_view_name": "HBoxView",
            "box_style": "",
            "children": [
              "IPY_MODEL_e7557e9b95ca43e5a638e026af42b0a3",
              "IPY_MODEL_c2f9f58b4226423fb8fe25b49d1c4891",
              "IPY_MODEL_f15047ad4f584e669802d06f6a82a234"
            ],
            "layout": "IPY_MODEL_ad56102612774d62beab3540fbc445c8"
          }
        },
        "e7557e9b95ca43e5a638e026af42b0a3": {
          "model_module": "@jupyter-widgets/controls",
          "model_name": "HTMLModel",
          "model_module_version": "1.5.0",
          "state": {
            "_dom_classes": [],
            "_model_module": "@jupyter-widgets/controls",
            "_model_module_version": "1.5.0",
            "_model_name": "HTMLModel",
            "_view_count": null,
            "_view_module": "@jupyter-widgets/controls",
            "_view_module_version": "1.5.0",
            "_view_name": "HTMLView",
            "description": "",
            "description_tooltip": null,
            "layout": "IPY_MODEL_1591d96c5188434a9c07fb23b4df22f7",
            "placeholder": "​",
            "style": "IPY_MODEL_915155a423d44711bdd329b3f2ff09ad",
            "value": "config.json: 100%"
          }
        },
        "c2f9f58b4226423fb8fe25b49d1c4891": {
          "model_module": "@jupyter-widgets/controls",
          "model_name": "FloatProgressModel",
          "model_module_version": "1.5.0",
          "state": {
            "_dom_classes": [],
            "_model_module": "@jupyter-widgets/controls",
            "_model_module_version": "1.5.0",
            "_model_name": "FloatProgressModel",
            "_view_count": null,
            "_view_module": "@jupyter-widgets/controls",
            "_view_module_version": "1.5.0",
            "_view_name": "ProgressView",
            "bar_style": "success",
            "description": "",
            "description_tooltip": null,
            "layout": "IPY_MODEL_c6f1e6041d204b989c8c2111ae633eb8",
            "max": 608,
            "min": 0,
            "orientation": "horizontal",
            "style": "IPY_MODEL_97ae53b2a42d45cea77e14803f19714b",
            "value": 608
          }
        },
        "f15047ad4f584e669802d06f6a82a234": {
          "model_module": "@jupyter-widgets/controls",
          "model_name": "HTMLModel",
          "model_module_version": "1.5.0",
          "state": {
            "_dom_classes": [],
            "_model_module": "@jupyter-widgets/controls",
            "_model_module_version": "1.5.0",
            "_model_name": "HTMLModel",
            "_view_count": null,
            "_view_module": "@jupyter-widgets/controls",
            "_view_module_version": "1.5.0",
            "_view_name": "HTMLView",
            "description": "",
            "description_tooltip": null,
            "layout": "IPY_MODEL_5c1946d8ba774db395ce193c20d3d781",
            "placeholder": "​",
            "style": "IPY_MODEL_2d3eb29bc99744f49652ef311081d34e",
            "value": " 608/608 [00:00&lt;00:00, 21.6kB/s]"
          }
        },
        "ad56102612774d62beab3540fbc445c8": {
          "model_module": "@jupyter-widgets/base",
          "model_name": "LayoutModel",
          "model_module_version": "1.2.0",
          "state": {
            "_model_module": "@jupyter-widgets/base",
            "_model_module_version": "1.2.0",
            "_model_name": "LayoutModel",
            "_view_count": null,
            "_view_module": "@jupyter-widgets/base",
            "_view_module_version": "1.2.0",
            "_view_name": "LayoutView",
            "align_content": null,
            "align_items": null,
            "align_self": null,
            "border": null,
            "bottom": null,
            "display": null,
            "flex": null,
            "flex_flow": null,
            "grid_area": null,
            "grid_auto_columns": null,
            "grid_auto_flow": null,
            "grid_auto_rows": null,
            "grid_column": null,
            "grid_gap": null,
            "grid_row": null,
            "grid_template_areas": null,
            "grid_template_columns": null,
            "grid_template_rows": null,
            "height": null,
            "justify_content": null,
            "justify_items": null,
            "left": null,
            "margin": null,
            "max_height": null,
            "max_width": null,
            "min_height": null,
            "min_width": null,
            "object_fit": null,
            "object_position": null,
            "order": null,
            "overflow": null,
            "overflow_x": null,
            "overflow_y": null,
            "padding": null,
            "right": null,
            "top": null,
            "visibility": null,
            "width": null
          }
        },
        "1591d96c5188434a9c07fb23b4df22f7": {
          "model_module": "@jupyter-widgets/base",
          "model_name": "LayoutModel",
          "model_module_version": "1.2.0",
          "state": {
            "_model_module": "@jupyter-widgets/base",
            "_model_module_version": "1.2.0",
            "_model_name": "LayoutModel",
            "_view_count": null,
            "_view_module": "@jupyter-widgets/base",
            "_view_module_version": "1.2.0",
            "_view_name": "LayoutView",
            "align_content": null,
            "align_items": null,
            "align_self": null,
            "border": null,
            "bottom": null,
            "display": null,
            "flex": null,
            "flex_flow": null,
            "grid_area": null,
            "grid_auto_columns": null,
            "grid_auto_flow": null,
            "grid_auto_rows": null,
            "grid_column": null,
            "grid_gap": null,
            "grid_row": null,
            "grid_template_areas": null,
            "grid_template_columns": null,
            "grid_template_rows": null,
            "height": null,
            "justify_content": null,
            "justify_items": null,
            "left": null,
            "margin": null,
            "max_height": null,
            "max_width": null,
            "min_height": null,
            "min_width": null,
            "object_fit": null,
            "object_position": null,
            "order": null,
            "overflow": null,
            "overflow_x": null,
            "overflow_y": null,
            "padding": null,
            "right": null,
            "top": null,
            "visibility": null,
            "width": null
          }
        },
        "915155a423d44711bdd329b3f2ff09ad": {
          "model_module": "@jupyter-widgets/controls",
          "model_name": "DescriptionStyleModel",
          "model_module_version": "1.5.0",
          "state": {
            "_model_module": "@jupyter-widgets/controls",
            "_model_module_version": "1.5.0",
            "_model_name": "DescriptionStyleModel",
            "_view_count": null,
            "_view_module": "@jupyter-widgets/base",
            "_view_module_version": "1.2.0",
            "_view_name": "StyleView",
            "description_width": ""
          }
        },
        "c6f1e6041d204b989c8c2111ae633eb8": {
          "model_module": "@jupyter-widgets/base",
          "model_name": "LayoutModel",
          "model_module_version": "1.2.0",
          "state": {
            "_model_module": "@jupyter-widgets/base",
            "_model_module_version": "1.2.0",
            "_model_name": "LayoutModel",
            "_view_count": null,
            "_view_module": "@jupyter-widgets/base",
            "_view_module_version": "1.2.0",
            "_view_name": "LayoutView",
            "align_content": null,
            "align_items": null,
            "align_self": null,
            "border": null,
            "bottom": null,
            "display": null,
            "flex": null,
            "flex_flow": null,
            "grid_area": null,
            "grid_auto_columns": null,
            "grid_auto_flow": null,
            "grid_auto_rows": null,
            "grid_column": null,
            "grid_gap": null,
            "grid_row": null,
            "grid_template_areas": null,
            "grid_template_columns": null,
            "grid_template_rows": null,
            "height": null,
            "justify_content": null,
            "justify_items": null,
            "left": null,
            "margin": null,
            "max_height": null,
            "max_width": null,
            "min_height": null,
            "min_width": null,
            "object_fit": null,
            "object_position": null,
            "order": null,
            "overflow": null,
            "overflow_x": null,
            "overflow_y": null,
            "padding": null,
            "right": null,
            "top": null,
            "visibility": null,
            "width": null
          }
        },
        "97ae53b2a42d45cea77e14803f19714b": {
          "model_module": "@jupyter-widgets/controls",
          "model_name": "ProgressStyleModel",
          "model_module_version": "1.5.0",
          "state": {
            "_model_module": "@jupyter-widgets/controls",
            "_model_module_version": "1.5.0",
            "_model_name": "ProgressStyleModel",
            "_view_count": null,
            "_view_module": "@jupyter-widgets/base",
            "_view_module_version": "1.2.0",
            "_view_name": "StyleView",
            "bar_color": null,
            "description_width": ""
          }
        },
        "5c1946d8ba774db395ce193c20d3d781": {
          "model_module": "@jupyter-widgets/base",
          "model_name": "LayoutModel",
          "model_module_version": "1.2.0",
          "state": {
            "_model_module": "@jupyter-widgets/base",
            "_model_module_version": "1.2.0",
            "_model_name": "LayoutModel",
            "_view_count": null,
            "_view_module": "@jupyter-widgets/base",
            "_view_module_version": "1.2.0",
            "_view_name": "LayoutView",
            "align_content": null,
            "align_items": null,
            "align_self": null,
            "border": null,
            "bottom": null,
            "display": null,
            "flex": null,
            "flex_flow": null,
            "grid_area": null,
            "grid_auto_columns": null,
            "grid_auto_flow": null,
            "grid_auto_rows": null,
            "grid_column": null,
            "grid_gap": null,
            "grid_row": null,
            "grid_template_areas": null,
            "grid_template_columns": null,
            "grid_template_rows": null,
            "height": null,
            "justify_content": null,
            "justify_items": null,
            "left": null,
            "margin": null,
            "max_height": null,
            "max_width": null,
            "min_height": null,
            "min_width": null,
            "object_fit": null,
            "object_position": null,
            "order": null,
            "overflow": null,
            "overflow_x": null,
            "overflow_y": null,
            "padding": null,
            "right": null,
            "top": null,
            "visibility": null,
            "width": null
          }
        },
        "2d3eb29bc99744f49652ef311081d34e": {
          "model_module": "@jupyter-widgets/controls",
          "model_name": "DescriptionStyleModel",
          "model_module_version": "1.5.0",
          "state": {
            "_model_module": "@jupyter-widgets/controls",
            "_model_module_version": "1.5.0",
            "_model_name": "DescriptionStyleModel",
            "_view_count": null,
            "_view_module": "@jupyter-widgets/base",
            "_view_module_version": "1.2.0",
            "_view_name": "StyleView",
            "description_width": ""
          }
        },
        "3ad912040c9b4a288e13598760b0a562": {
          "model_module": "@jupyter-widgets/controls",
          "model_name": "HBoxModel",
          "model_module_version": "1.5.0",
          "state": {
            "_dom_classes": [],
            "_model_module": "@jupyter-widgets/controls",
            "_model_module_version": "1.5.0",
            "_model_name": "HBoxModel",
            "_view_count": null,
            "_view_module": "@jupyter-widgets/controls",
            "_view_module_version": "1.5.0",
            "_view_name": "HBoxView",
            "box_style": "",
            "children": [
              "IPY_MODEL_be3a1d88907645cea2f7add4bc7be803",
              "IPY_MODEL_06c775a2de1e46fe837fa1b30236c5e9",
              "IPY_MODEL_8067d1e38fb64ef185eca7b6c087c24d"
            ],
            "layout": "IPY_MODEL_c2dbd16f94954d29b5fd7fb3d0f4e8a0"
          }
        },
        "be3a1d88907645cea2f7add4bc7be803": {
          "model_module": "@jupyter-widgets/controls",
          "model_name": "HTMLModel",
          "model_module_version": "1.5.0",
          "state": {
            "_dom_classes": [],
            "_model_module": "@jupyter-widgets/controls",
            "_model_module_version": "1.5.0",
            "_model_name": "HTMLModel",
            "_view_count": null,
            "_view_module": "@jupyter-widgets/controls",
            "_view_module_version": "1.5.0",
            "_view_name": "HTMLView",
            "description": "",
            "description_tooltip": null,
            "layout": "IPY_MODEL_a5de4bed6aa14213b79a27ffb29ff0f3",
            "placeholder": "​",
            "style": "IPY_MODEL_1101122c0fa74fea810d2397dcb2a795",
            "value": "model.safetensors: 100%"
          }
        },
        "06c775a2de1e46fe837fa1b30236c5e9": {
          "model_module": "@jupyter-widgets/controls",
          "model_name": "FloatProgressModel",
          "model_module_version": "1.5.0",
          "state": {
            "_dom_classes": [],
            "_model_module": "@jupyter-widgets/controls",
            "_model_module_version": "1.5.0",
            "_model_name": "FloatProgressModel",
            "_view_count": null,
            "_view_module": "@jupyter-widgets/controls",
            "_view_module_version": "1.5.0",
            "_view_name": "ProgressView",
            "bar_style": "success",
            "description": "",
            "description_tooltip": null,
            "layout": "IPY_MODEL_cfbc89f0acab464d851c9d708f786519",
            "max": 2200119864,
            "min": 0,
            "orientation": "horizontal",
            "style": "IPY_MODEL_790618c88cb148c8b02ee6830ecfb1cb",
            "value": 2200119864
          }
        },
        "8067d1e38fb64ef185eca7b6c087c24d": {
          "model_module": "@jupyter-widgets/controls",
          "model_name": "HTMLModel",
          "model_module_version": "1.5.0",
          "state": {
            "_dom_classes": [],
            "_model_module": "@jupyter-widgets/controls",
            "_model_module_version": "1.5.0",
            "_model_name": "HTMLModel",
            "_view_count": null,
            "_view_module": "@jupyter-widgets/controls",
            "_view_module_version": "1.5.0",
            "_view_name": "HTMLView",
            "description": "",
            "description_tooltip": null,
            "layout": "IPY_MODEL_2303510ba0714baf8c2235fa6d141339",
            "placeholder": "​",
            "style": "IPY_MODEL_5d40139061c846b88cc19bac1b375ff9",
            "value": " 2.20G/2.20G [00:24&lt;00:00, 238MB/s]"
          }
        },
        "c2dbd16f94954d29b5fd7fb3d0f4e8a0": {
          "model_module": "@jupyter-widgets/base",
          "model_name": "LayoutModel",
          "model_module_version": "1.2.0",
          "state": {
            "_model_module": "@jupyter-widgets/base",
            "_model_module_version": "1.2.0",
            "_model_name": "LayoutModel",
            "_view_count": null,
            "_view_module": "@jupyter-widgets/base",
            "_view_module_version": "1.2.0",
            "_view_name": "LayoutView",
            "align_content": null,
            "align_items": null,
            "align_self": null,
            "border": null,
            "bottom": null,
            "display": null,
            "flex": null,
            "flex_flow": null,
            "grid_area": null,
            "grid_auto_columns": null,
            "grid_auto_flow": null,
            "grid_auto_rows": null,
            "grid_column": null,
            "grid_gap": null,
            "grid_row": null,
            "grid_template_areas": null,
            "grid_template_columns": null,
            "grid_template_rows": null,
            "height": null,
            "justify_content": null,
            "justify_items": null,
            "left": null,
            "margin": null,
            "max_height": null,
            "max_width": null,
            "min_height": null,
            "min_width": null,
            "object_fit": null,
            "object_position": null,
            "order": null,
            "overflow": null,
            "overflow_x": null,
            "overflow_y": null,
            "padding": null,
            "right": null,
            "top": null,
            "visibility": null,
            "width": null
          }
        },
        "a5de4bed6aa14213b79a27ffb29ff0f3": {
          "model_module": "@jupyter-widgets/base",
          "model_name": "LayoutModel",
          "model_module_version": "1.2.0",
          "state": {
            "_model_module": "@jupyter-widgets/base",
            "_model_module_version": "1.2.0",
            "_model_name": "LayoutModel",
            "_view_count": null,
            "_view_module": "@jupyter-widgets/base",
            "_view_module_version": "1.2.0",
            "_view_name": "LayoutView",
            "align_content": null,
            "align_items": null,
            "align_self": null,
            "border": null,
            "bottom": null,
            "display": null,
            "flex": null,
            "flex_flow": null,
            "grid_area": null,
            "grid_auto_columns": null,
            "grid_auto_flow": null,
            "grid_auto_rows": null,
            "grid_column": null,
            "grid_gap": null,
            "grid_row": null,
            "grid_template_areas": null,
            "grid_template_columns": null,
            "grid_template_rows": null,
            "height": null,
            "justify_content": null,
            "justify_items": null,
            "left": null,
            "margin": null,
            "max_height": null,
            "max_width": null,
            "min_height": null,
            "min_width": null,
            "object_fit": null,
            "object_position": null,
            "order": null,
            "overflow": null,
            "overflow_x": null,
            "overflow_y": null,
            "padding": null,
            "right": null,
            "top": null,
            "visibility": null,
            "width": null
          }
        },
        "1101122c0fa74fea810d2397dcb2a795": {
          "model_module": "@jupyter-widgets/controls",
          "model_name": "DescriptionStyleModel",
          "model_module_version": "1.5.0",
          "state": {
            "_model_module": "@jupyter-widgets/controls",
            "_model_module_version": "1.5.0",
            "_model_name": "DescriptionStyleModel",
            "_view_count": null,
            "_view_module": "@jupyter-widgets/base",
            "_view_module_version": "1.2.0",
            "_view_name": "StyleView",
            "description_width": ""
          }
        },
        "cfbc89f0acab464d851c9d708f786519": {
          "model_module": "@jupyter-widgets/base",
          "model_name": "LayoutModel",
          "model_module_version": "1.2.0",
          "state": {
            "_model_module": "@jupyter-widgets/base",
            "_model_module_version": "1.2.0",
            "_model_name": "LayoutModel",
            "_view_count": null,
            "_view_module": "@jupyter-widgets/base",
            "_view_module_version": "1.2.0",
            "_view_name": "LayoutView",
            "align_content": null,
            "align_items": null,
            "align_self": null,
            "border": null,
            "bottom": null,
            "display": null,
            "flex": null,
            "flex_flow": null,
            "grid_area": null,
            "grid_auto_columns": null,
            "grid_auto_flow": null,
            "grid_auto_rows": null,
            "grid_column": null,
            "grid_gap": null,
            "grid_row": null,
            "grid_template_areas": null,
            "grid_template_columns": null,
            "grid_template_rows": null,
            "height": null,
            "justify_content": null,
            "justify_items": null,
            "left": null,
            "margin": null,
            "max_height": null,
            "max_width": null,
            "min_height": null,
            "min_width": null,
            "object_fit": null,
            "object_position": null,
            "order": null,
            "overflow": null,
            "overflow_x": null,
            "overflow_y": null,
            "padding": null,
            "right": null,
            "top": null,
            "visibility": null,
            "width": null
          }
        },
        "790618c88cb148c8b02ee6830ecfb1cb": {
          "model_module": "@jupyter-widgets/controls",
          "model_name": "ProgressStyleModel",
          "model_module_version": "1.5.0",
          "state": {
            "_model_module": "@jupyter-widgets/controls",
            "_model_module_version": "1.5.0",
            "_model_name": "ProgressStyleModel",
            "_view_count": null,
            "_view_module": "@jupyter-widgets/base",
            "_view_module_version": "1.2.0",
            "_view_name": "StyleView",
            "bar_color": null,
            "description_width": ""
          }
        },
        "2303510ba0714baf8c2235fa6d141339": {
          "model_module": "@jupyter-widgets/base",
          "model_name": "LayoutModel",
          "model_module_version": "1.2.0",
          "state": {
            "_model_module": "@jupyter-widgets/base",
            "_model_module_version": "1.2.0",
            "_model_name": "LayoutModel",
            "_view_count": null,
            "_view_module": "@jupyter-widgets/base",
            "_view_module_version": "1.2.0",
            "_view_name": "LayoutView",
            "align_content": null,
            "align_items": null,
            "align_self": null,
            "border": null,
            "bottom": null,
            "display": null,
            "flex": null,
            "flex_flow": null,
            "grid_area": null,
            "grid_auto_columns": null,
            "grid_auto_flow": null,
            "grid_auto_rows": null,
            "grid_column": null,
            "grid_gap": null,
            "grid_row": null,
            "grid_template_areas": null,
            "grid_template_columns": null,
            "grid_template_rows": null,
            "height": null,
            "justify_content": null,
            "justify_items": null,
            "left": null,
            "margin": null,
            "max_height": null,
            "max_width": null,
            "min_height": null,
            "min_width": null,
            "object_fit": null,
            "object_position": null,
            "order": null,
            "overflow": null,
            "overflow_x": null,
            "overflow_y": null,
            "padding": null,
            "right": null,
            "top": null,
            "visibility": null,
            "width": null
          }
        },
        "5d40139061c846b88cc19bac1b375ff9": {
          "model_module": "@jupyter-widgets/controls",
          "model_name": "DescriptionStyleModel",
          "model_module_version": "1.5.0",
          "state": {
            "_model_module": "@jupyter-widgets/controls",
            "_model_module_version": "1.5.0",
            "_model_name": "DescriptionStyleModel",
            "_view_count": null,
            "_view_module": "@jupyter-widgets/base",
            "_view_module_version": "1.2.0",
            "_view_name": "StyleView",
            "description_width": ""
          }
        },
        "ed0b7f93956f4f518a7d371fc767ec3a": {
          "model_module": "@jupyter-widgets/controls",
          "model_name": "HBoxModel",
          "model_module_version": "1.5.0",
          "state": {
            "_dom_classes": [],
            "_model_module": "@jupyter-widgets/controls",
            "_model_module_version": "1.5.0",
            "_model_name": "HBoxModel",
            "_view_count": null,
            "_view_module": "@jupyter-widgets/controls",
            "_view_module_version": "1.5.0",
            "_view_name": "HBoxView",
            "box_style": "",
            "children": [
              "IPY_MODEL_2a5a3cf5d13b431a9b30600696974466",
              "IPY_MODEL_8800af9a5bc94a8da5ae0d9477696dcc",
              "IPY_MODEL_f9c7f94505844c78aa8fc0c7612638ae"
            ],
            "layout": "IPY_MODEL_a458577588c8433ea0f46404e5ffeef8"
          }
        },
        "2a5a3cf5d13b431a9b30600696974466": {
          "model_module": "@jupyter-widgets/controls",
          "model_name": "HTMLModel",
          "model_module_version": "1.5.0",
          "state": {
            "_dom_classes": [],
            "_model_module": "@jupyter-widgets/controls",
            "_model_module_version": "1.5.0",
            "_model_name": "HTMLModel",
            "_view_count": null,
            "_view_module": "@jupyter-widgets/controls",
            "_view_module_version": "1.5.0",
            "_view_name": "HTMLView",
            "description": "",
            "description_tooltip": null,
            "layout": "IPY_MODEL_b05f4622b2b54190ae0d13a078512c29",
            "placeholder": "​",
            "style": "IPY_MODEL_a68eea0a7b4e4f79a94797f2d5e853c6",
            "value": "generation_config.json: 100%"
          }
        },
        "8800af9a5bc94a8da5ae0d9477696dcc": {
          "model_module": "@jupyter-widgets/controls",
          "model_name": "FloatProgressModel",
          "model_module_version": "1.5.0",
          "state": {
            "_dom_classes": [],
            "_model_module": "@jupyter-widgets/controls",
            "_model_module_version": "1.5.0",
            "_model_name": "FloatProgressModel",
            "_view_count": null,
            "_view_module": "@jupyter-widgets/controls",
            "_view_module_version": "1.5.0",
            "_view_name": "ProgressView",
            "bar_style": "success",
            "description": "",
            "description_tooltip": null,
            "layout": "IPY_MODEL_42093612861740ed8605a4e642e7b664",
            "max": 124,
            "min": 0,
            "orientation": "horizontal",
            "style": "IPY_MODEL_626812507af143beb1af69f49935756a",
            "value": 124
          }
        },
        "f9c7f94505844c78aa8fc0c7612638ae": {
          "model_module": "@jupyter-widgets/controls",
          "model_name": "HTMLModel",
          "model_module_version": "1.5.0",
          "state": {
            "_dom_classes": [],
            "_model_module": "@jupyter-widgets/controls",
            "_model_module_version": "1.5.0",
            "_model_name": "HTMLModel",
            "_view_count": null,
            "_view_module": "@jupyter-widgets/controls",
            "_view_module_version": "1.5.0",
            "_view_name": "HTMLView",
            "description": "",
            "description_tooltip": null,
            "layout": "IPY_MODEL_62321bc06b0a446f8ff988d46971f669",
            "placeholder": "​",
            "style": "IPY_MODEL_0114a2974af442a7aa60e830de414b65",
            "value": " 124/124 [00:00&lt;00:00, 10.6kB/s]"
          }
        },
        "a458577588c8433ea0f46404e5ffeef8": {
          "model_module": "@jupyter-widgets/base",
          "model_name": "LayoutModel",
          "model_module_version": "1.2.0",
          "state": {
            "_model_module": "@jupyter-widgets/base",
            "_model_module_version": "1.2.0",
            "_model_name": "LayoutModel",
            "_view_count": null,
            "_view_module": "@jupyter-widgets/base",
            "_view_module_version": "1.2.0",
            "_view_name": "LayoutView",
            "align_content": null,
            "align_items": null,
            "align_self": null,
            "border": null,
            "bottom": null,
            "display": null,
            "flex": null,
            "flex_flow": null,
            "grid_area": null,
            "grid_auto_columns": null,
            "grid_auto_flow": null,
            "grid_auto_rows": null,
            "grid_column": null,
            "grid_gap": null,
            "grid_row": null,
            "grid_template_areas": null,
            "grid_template_columns": null,
            "grid_template_rows": null,
            "height": null,
            "justify_content": null,
            "justify_items": null,
            "left": null,
            "margin": null,
            "max_height": null,
            "max_width": null,
            "min_height": null,
            "min_width": null,
            "object_fit": null,
            "object_position": null,
            "order": null,
            "overflow": null,
            "overflow_x": null,
            "overflow_y": null,
            "padding": null,
            "right": null,
            "top": null,
            "visibility": null,
            "width": null
          }
        },
        "b05f4622b2b54190ae0d13a078512c29": {
          "model_module": "@jupyter-widgets/base",
          "model_name": "LayoutModel",
          "model_module_version": "1.2.0",
          "state": {
            "_model_module": "@jupyter-widgets/base",
            "_model_module_version": "1.2.0",
            "_model_name": "LayoutModel",
            "_view_count": null,
            "_view_module": "@jupyter-widgets/base",
            "_view_module_version": "1.2.0",
            "_view_name": "LayoutView",
            "align_content": null,
            "align_items": null,
            "align_self": null,
            "border": null,
            "bottom": null,
            "display": null,
            "flex": null,
            "flex_flow": null,
            "grid_area": null,
            "grid_auto_columns": null,
            "grid_auto_flow": null,
            "grid_auto_rows": null,
            "grid_column": null,
            "grid_gap": null,
            "grid_row": null,
            "grid_template_areas": null,
            "grid_template_columns": null,
            "grid_template_rows": null,
            "height": null,
            "justify_content": null,
            "justify_items": null,
            "left": null,
            "margin": null,
            "max_height": null,
            "max_width": null,
            "min_height": null,
            "min_width": null,
            "object_fit": null,
            "object_position": null,
            "order": null,
            "overflow": null,
            "overflow_x": null,
            "overflow_y": null,
            "padding": null,
            "right": null,
            "top": null,
            "visibility": null,
            "width": null
          }
        },
        "a68eea0a7b4e4f79a94797f2d5e853c6": {
          "model_module": "@jupyter-widgets/controls",
          "model_name": "DescriptionStyleModel",
          "model_module_version": "1.5.0",
          "state": {
            "_model_module": "@jupyter-widgets/controls",
            "_model_module_version": "1.5.0",
            "_model_name": "DescriptionStyleModel",
            "_view_count": null,
            "_view_module": "@jupyter-widgets/base",
            "_view_module_version": "1.2.0",
            "_view_name": "StyleView",
            "description_width": ""
          }
        },
        "42093612861740ed8605a4e642e7b664": {
          "model_module": "@jupyter-widgets/base",
          "model_name": "LayoutModel",
          "model_module_version": "1.2.0",
          "state": {
            "_model_module": "@jupyter-widgets/base",
            "_model_module_version": "1.2.0",
            "_model_name": "LayoutModel",
            "_view_count": null,
            "_view_module": "@jupyter-widgets/base",
            "_view_module_version": "1.2.0",
            "_view_name": "LayoutView",
            "align_content": null,
            "align_items": null,
            "align_self": null,
            "border": null,
            "bottom": null,
            "display": null,
            "flex": null,
            "flex_flow": null,
            "grid_area": null,
            "grid_auto_columns": null,
            "grid_auto_flow": null,
            "grid_auto_rows": null,
            "grid_column": null,
            "grid_gap": null,
            "grid_row": null,
            "grid_template_areas": null,
            "grid_template_columns": null,
            "grid_template_rows": null,
            "height": null,
            "justify_content": null,
            "justify_items": null,
            "left": null,
            "margin": null,
            "max_height": null,
            "max_width": null,
            "min_height": null,
            "min_width": null,
            "object_fit": null,
            "object_position": null,
            "order": null,
            "overflow": null,
            "overflow_x": null,
            "overflow_y": null,
            "padding": null,
            "right": null,
            "top": null,
            "visibility": null,
            "width": null
          }
        },
        "626812507af143beb1af69f49935756a": {
          "model_module": "@jupyter-widgets/controls",
          "model_name": "ProgressStyleModel",
          "model_module_version": "1.5.0",
          "state": {
            "_model_module": "@jupyter-widgets/controls",
            "_model_module_version": "1.5.0",
            "_model_name": "ProgressStyleModel",
            "_view_count": null,
            "_view_module": "@jupyter-widgets/base",
            "_view_module_version": "1.2.0",
            "_view_name": "StyleView",
            "bar_color": null,
            "description_width": ""
          }
        },
        "62321bc06b0a446f8ff988d46971f669": {
          "model_module": "@jupyter-widgets/base",
          "model_name": "LayoutModel",
          "model_module_version": "1.2.0",
          "state": {
            "_model_module": "@jupyter-widgets/base",
            "_model_module_version": "1.2.0",
            "_model_name": "LayoutModel",
            "_view_count": null,
            "_view_module": "@jupyter-widgets/base",
            "_view_module_version": "1.2.0",
            "_view_name": "LayoutView",
            "align_content": null,
            "align_items": null,
            "align_self": null,
            "border": null,
            "bottom": null,
            "display": null,
            "flex": null,
            "flex_flow": null,
            "grid_area": null,
            "grid_auto_columns": null,
            "grid_auto_flow": null,
            "grid_auto_rows": null,
            "grid_column": null,
            "grid_gap": null,
            "grid_row": null,
            "grid_template_areas": null,
            "grid_template_columns": null,
            "grid_template_rows": null,
            "height": null,
            "justify_content": null,
            "justify_items": null,
            "left": null,
            "margin": null,
            "max_height": null,
            "max_width": null,
            "min_height": null,
            "min_width": null,
            "object_fit": null,
            "object_position": null,
            "order": null,
            "overflow": null,
            "overflow_x": null,
            "overflow_y": null,
            "padding": null,
            "right": null,
            "top": null,
            "visibility": null,
            "width": null
          }
        },
        "0114a2974af442a7aa60e830de414b65": {
          "model_module": "@jupyter-widgets/controls",
          "model_name": "DescriptionStyleModel",
          "model_module_version": "1.5.0",
          "state": {
            "_model_module": "@jupyter-widgets/controls",
            "_model_module_version": "1.5.0",
            "_model_name": "DescriptionStyleModel",
            "_view_count": null,
            "_view_module": "@jupyter-widgets/base",
            "_view_module_version": "1.2.0",
            "_view_name": "StyleView",
            "description_width": ""
          }
        }
      }
    }
  },
  "cells": [
    {
      "cell_type": "markdown",
      "metadata": {
        "id": "view-in-github",
        "colab_type": "text"
      },
      "source": [
        "<a href=\"https://colab.research.google.com/github/anjelisa01/resume_scoring_app/blob/main/sectioned_deeper_analysis.ipynb\" target=\"_parent\"><img src=\"https://colab.research.google.com/assets/colab-badge.svg\" alt=\"Open In Colab\"/></a>"
      ]
    },
    {
      "cell_type": "code",
      "source": [
        "import re\n",
        "from transformers import pipeline\n"
      ],
      "metadata": {
        "id": "WbySN82EEfqp"
      },
      "execution_count": 1,
      "outputs": []
    },
    {
      "cell_type": "markdown",
      "source": [
        "#functions"
      ],
      "metadata": {
        "id": "Jc2jjOiJEbni"
      }
    },
    {
      "cell_type": "markdown",
      "source": [
        "##milih section penting"
      ],
      "metadata": {
        "id": "aBrwOV9iEend"
      }
    },
    {
      "cell_type": "code",
      "source": [
        "def select_relevant_sections(resume_dict, jd_dict):\n",
        "    selected_resume = {k: resume_dict[k] for k in ['summary', 'skills', 'experience', 'projects'] if k in resume_dict}\n",
        "    selected_jd = {k: jd_dict[k] for k in ['summary', 'requirements', 'responsibilities', 'preferred_qualifications'] if k in jd_dict}\n",
        "    return selected_resume, selected_jd"
      ],
      "metadata": {
        "id": "-MUzCZXLEpHt"
      },
      "execution_count": 2,
      "outputs": []
    },
    {
      "cell_type": "markdown",
      "source": [
        "##ringkas sections"
      ],
      "metadata": {
        "id": "k-UaFfUWEqju"
      }
    },
    {
      "cell_type": "code",
      "source": [
        "# def summarize_sections(section_dict, summarizer, max_tokens=100):\n",
        "#     summarized = {}\n",
        "#     for section, content in section_dict.items():\n",
        "#         summary = summarizer(content, max_length=max_tokens, min_length=30, do_sample=False)[0]['summary_text']\n",
        "#         summarized[section] = summary\n",
        "#     return summarized"
      ],
      "metadata": {
        "id": "dt8Uyv0tEuTO"
      },
      "execution_count": 3,
      "outputs": []
    },
    {
      "cell_type": "code",
      "source": [
        "def summarize_sections(section_dict, summarizer):\n",
        "    summarized = {}\n",
        "\n",
        "    for section, content in section_dict.items():\n",
        "        if not content.strip():\n",
        "            summarized[section] = \"\"\n",
        "            continue\n",
        "\n",
        "        if section.lower() == \"summary\":\n",
        "            # Aim for ~2 sentences\n",
        "            summary = summarizer(content, max_length=60, min_length=30, do_sample=False)[0]['summary_text']\n",
        "            summarized[section] = summary\n",
        "\n",
        "        elif section.lower() == \"skills\":\n",
        "            # Extract & clean skill list (assume comma or newline separated)\n",
        "            skills = [skill.strip() for skill in content.replace('\\n', ',').split(',') if skill.strip()]\n",
        "            summarized[section] = \", \".join(skills)\n",
        "\n",
        "        elif section.lower() in [\"experience\", \"project\"]:\n",
        "            # Use higher max length to keep important content\n",
        "            summary = summarizer(content, max_length=150, min_length=60, do_sample=False)[0]['summary_text']\n",
        "            summarized[section] = summary\n",
        "\n",
        "        else:\n",
        "            # Default summarization\n",
        "            summary = summarizer(content, max_length=80, min_length=30, do_sample=False)[0]['summary_text']\n",
        "            summarized[section] = summary\n",
        "\n",
        "    return summarized\n"
      ],
      "metadata": {
        "id": "pR4Te2Vslj6Z"
      },
      "execution_count": 4,
      "outputs": []
    },
    {
      "cell_type": "markdown",
      "source": [
        "##Analyzed match per sections"
      ],
      "metadata": {
        "id": "9kxY6HzYEwl2"
      }
    },
    {
      "cell_type": "code",
      "source": [
        "# def analyze_match(resume_summaries, jd_summaries, llm_pipeline):\n",
        "#     analyses = {}\n",
        "#     section_map = {\n",
        "#         'summary': 'summary',\n",
        "#         'skills': 'requirements',\n",
        "#         'experience': 'responsibilities',\n",
        "#         'projects': 'preferred_qualifications'\n",
        "#     }\n",
        "#     for resume_sec, jd_sec in section_map.items():\n",
        "#         if resume_sec in resume_summaries and jd_sec in jd_summaries:\n",
        "#             prompt = (\n",
        "#                 f\"Candidate {resume_sec.capitalize()}:\\n{resume_summaries[resume_sec]}\\n\\n\"\n",
        "#                 f\"Job {jd_sec.capitalize()}:\\n{jd_summaries[jd_sec]}\\n\\n\"\n",
        "#                 f\"Q: How well does the candidate's {resume_sec} align with the job's {jd_sec}?\\nA:\"\n",
        "#             )\n",
        "#             result = llm_pipeline(prompt, max_new_tokens=150, do_sample=False)[0]['generated_text']\n",
        "#             analyses[resume_sec] = result.replace(prompt, '').strip()\n",
        "#     return analyses"
      ],
      "metadata": {
        "id": "Nd-h48k2E109"
      },
      "execution_count": 5,
      "outputs": []
    },
    {
      "cell_type": "markdown",
      "source": [
        "##Final output"
      ],
      "metadata": {
        "id": "BwT_hLpgE4VA"
      }
    },
    {
      "cell_type": "code",
      "execution_count": 6,
      "metadata": {
        "id": "n3Vudr2qDRr2"
      },
      "outputs": [],
      "source": [
        "# def compile_analysis(contact_info, analysis_results):\n",
        "#     output = f\"Candidate: {contact_info}\\n\\n\"\n",
        "#     for section, analysis in analysis_results.items():\n",
        "#         output += f\"{section.capitalize()} Match Analysis:\\n{analysis}\\n\\n\"\n",
        "#     return output.strip()\n",
        "\n"
      ]
    },
    {
      "cell_type": "markdown",
      "source": [
        "#Test usage"
      ],
      "metadata": {
        "id": "x_qG6Nw4E99s"
      }
    },
    {
      "cell_type": "code",
      "source": [
        "resume={'contact': 'Alex Johnson (123) 456-7890, alexjohnson. dev@email. com, github. com/alexjohnson-dev, alexjohnson. dev.',\n",
        " 'summary': 'Junior Web Developer with a strong foundation in front-end and back-end technologies. Skilled in building responsive, user-centric websites and applications. Passionate about learning new technologies and delivering high-quality code.',\n",
        " 'skills': 'This candidate is proficient in Languages: HTML5, CSS3, JavaScript (ES6+), Python Frameworks/Libraries: React. js, Node. js, Express. js, Bootstrap Databases: MongoDB, MySQL Tools: Git, GitHub, Visual Studio Code, Figma, Postman Other: RESTful APIs, Responsive Design, and Agile Methodology.',\n",
        " 'experience': 'Web Development Intern, BrightWave Solutions, Remote, Jan 2024-Apr 2024-Developed and maintained front-end components using React. js and Bootstrap. Built RESTful APIs with Node. js and Express. js. Created mobile-first responsive designs with UX teams. Improved website performance by 20%. Freelance Web Developer, Self-Employed, Remote, May 2023-Dec 2023-Designed and developed custom websites for local businesses. Integrated third-party APIs (Google Maps, Stripe). Provided maintenance and support for client websites.',\n",
        " 'education': 'Bachelor of Science in Computer Science, University of Springfield, Springfield, IL, May 2023 Relevant Coursework: Web Development, Database Systems, Software Engineering, Human-Computer Interaction.',\n",
        " 'certifications': 'I hold certifications including Responsive Web Design Certification (freeCodeCamp, 2022)-JavaScript Algorithms and Data Structures Certification (freeCodeCamp, and 2023).',\n",
        " 'projects': 'TaskMaster Web App-Built a full-stack task management app using React. js, Node. js, and MongoDB. Implemented user authentication and real-time notifications. Personal Portfolio Website-Designed and developed a personal website to showcase projects and blog posts. Focused on accessibility and responsive design.',\n",
        " 'others': 'Other relevant participation includes Open-source contributor, and-Volunteer coding mentor at CodeClub Springfield.'}\n",
        "\n",
        "job_description={'job info': 'Job Title Junior Web Developer. Location Remote (US-based preferred). Employment Type Full-Time.',\n",
        " 'summary': 'We are seeking a passionate Junior Web Developer to join our growing team. This role is ideal for someone who enjoys building responsive, user-friendly web applications and working in a collaborative, agile environment. You will support front-end and back-end development tasks, contribute to code reviews, and help ensure our applications perform efficiently across devices.',\n",
        " 'responsibilities': '- Develop and maintain responsive web pages using HTML5, CSS3, and JavaScript. - Work with React.js on the front end and Node.js  Express.js on the back end. - Design and consume RESTful APIs. - Collaborate with UIUX designers to implement mobile-first designs. - Use version control systems like Git and platforms such as GitHub. - Write clean, maintainable, and well-documented code. - Participate in Agile workflows including daily standups and sprint planning.',\n",
        " 'requirements': '- Proficiency in HTML5, CSS3, and JavaScript (ES6). - Familiarity with React.js, Node.js, Express.js. - Basic understanding of MongoDB and MySQL. - Experience with Git, GitHub, VS Code, and Postman. - Comfortable working with APIs and debugging front-endback-end issues. - Strong communication and problem-solving skills. - Willingness to learn and grow in a fast-paced development environment.',\n",
        " 'education': \"Bachelor's degree in Computer Science or related field (or equivalent practical experience).\",\n",
        " 'preferred_qualifications': '- Internship or freelance experience building real-world web applications. - Exposure to tools like Figma, Firebase, or Vercel.'}"
      ],
      "metadata": {
        "id": "0PFb5m-EFETj"
      },
      "execution_count": 7,
      "outputs": []
    },
    {
      "cell_type": "code",
      "source": [
        "summarizer = pipeline(\"summarization\", model=\"sshleifer/distilbart-cnn-12-6\")"
      ],
      "metadata": {
        "colab": {
          "base_uri": "https://localhost:8080/"
        },
        "id": "NEljwMAyhjRT",
        "outputId": "b860c729-9dfa-4f23-c2f6-2386e3aa2b1f"
      },
      "execution_count": 8,
      "outputs": [
        {
          "output_type": "stream",
          "name": "stderr",
          "text": [
            "/usr/local/lib/python3.11/dist-packages/huggingface_hub/utils/_auth.py:94: UserWarning: \n",
            "The secret `HF_TOKEN` does not exist in your Colab secrets.\n",
            "To authenticate with the Hugging Face Hub, create a token in your settings tab (https://huggingface.co/settings/tokens), set it as secret in your Google Colab and restart your session.\n",
            "You will be able to reuse this secret in all of your notebooks.\n",
            "Please note that authentication is recommended but still optional to access public models or datasets.\n",
            "  warnings.warn(\n",
            "Device set to use cpu\n"
          ]
        }
      ]
    },
    {
      "cell_type": "code",
      "source": [
        "# llm_pipeline = pipeline(\"text-generation\", model=\"EleutherAI/gpt-neo-1.3B\")\n",
        "\n",
        "selected_resume, selected_jd = select_relevant_sections(resume, job_description)\n",
        "\n",
        "summarized_resume = summarize_sections(selected_resume, summarizer)\n",
        "summarized_jd = summarize_sections(selected_jd, summarizer)\n",
        "\n",
        "# analyses = analyze_match(summarized_resume, summarized_jd, llm_pipeline)\n",
        "\n"
      ],
      "metadata": {
        "colab": {
          "base_uri": "https://localhost:8080/"
        },
        "collapsed": true,
        "id": "gwE6XBckE_lO",
        "outputId": "aa6a4657-0e59-4c8d-966d-536e41630a20"
      },
      "execution_count": 9,
      "outputs": [
        {
          "output_type": "stream",
          "name": "stderr",
          "text": [
            "Your max_length is set to 60, but your input_length is only 45. Since this is a summarization task, where outputs shorter than the input are typically wanted, you might consider decreasing max_length manually, e.g. summarizer('...', max_length=22)\n",
            "Your max_length is set to 150, but your input_length is only 114. Since this is a summarization task, where outputs shorter than the input are typically wanted, you might consider decreasing max_length manually, e.g. summarizer('...', max_length=57)\n",
            "Your max_length is set to 80, but your input_length is only 66. Since this is a summarization task, where outputs shorter than the input are typically wanted, you might consider decreasing max_length manually, e.g. summarizer('...', max_length=33)\n",
            "Your max_length is set to 80, but your input_length is only 30. Since this is a summarization task, where outputs shorter than the input are typically wanted, you might consider decreasing max_length manually, e.g. summarizer('...', max_length=15)\n"
          ]
        }
      ]
    },
    {
      "cell_type": "code",
      "source": [],
      "metadata": {
        "id": "kdyZjoEBhhaG"
      },
      "execution_count": 9,
      "outputs": []
    },
    {
      "cell_type": "code",
      "source": [
        "selected_resume"
      ],
      "metadata": {
        "colab": {
          "base_uri": "https://localhost:8080/"
        },
        "id": "UNjAvQBjhZEn",
        "outputId": "b1b4a6ee-a90e-4bcb-cb21-36be1cd0f244"
      },
      "execution_count": 10,
      "outputs": [
        {
          "output_type": "execute_result",
          "data": {
            "text/plain": [
              "{'summary': 'Junior Web Developer with a strong foundation in front-end and back-end technologies. Skilled in building responsive, user-centric websites and applications. Passionate about learning new technologies and delivering high-quality code.',\n",
              " 'skills': 'This candidate is proficient in Languages: HTML5, CSS3, JavaScript (ES6+), Python Frameworks/Libraries: React. js, Node. js, Express. js, Bootstrap Databases: MongoDB, MySQL Tools: Git, GitHub, Visual Studio Code, Figma, Postman Other: RESTful APIs, Responsive Design, and Agile Methodology.',\n",
              " 'experience': 'Web Development Intern, BrightWave Solutions, Remote, Jan 2024-Apr 2024-Developed and maintained front-end components using React. js and Bootstrap. Built RESTful APIs with Node. js and Express. js. Created mobile-first responsive designs with UX teams. Improved website performance by 20%. Freelance Web Developer, Self-Employed, Remote, May 2023-Dec 2023-Designed and developed custom websites for local businesses. Integrated third-party APIs (Google Maps, Stripe). Provided maintenance and support for client websites.',\n",
              " 'projects': 'TaskMaster Web App-Built a full-stack task management app using React. js, Node. js, and MongoDB. Implemented user authentication and real-time notifications. Personal Portfolio Website-Designed and developed a personal website to showcase projects and blog posts. Focused on accessibility and responsive design.'}"
            ]
          },
          "metadata": {},
          "execution_count": 10
        }
      ]
    },
    {
      "cell_type": "code",
      "source": [
        "summarized_resume"
      ],
      "metadata": {
        "colab": {
          "base_uri": "https://localhost:8080/"
        },
        "id": "9YxSIb-6hcfm",
        "outputId": "775d7a22-af06-4d87-ff39-805801d3fc12"
      },
      "execution_count": 11,
      "outputs": [
        {
          "output_type": "execute_result",
          "data": {
            "text/plain": [
              "{'summary': ' Junior Web Developer with a strong foundation in front-end and back-end technologies . Skilled in building responsive, user-centric websites and applications . Passionate about learning new technologies and delivering high-quality code .',\n",
              " 'skills': 'This candidate is proficient in Languages: HTML5, CSS3, JavaScript (ES6+), Python Frameworks/Libraries: React. js, Node. js, Express. js, Bootstrap Databases: MongoDB, MySQL Tools: Git, GitHub, Visual Studio Code, Figma, Postman Other: RESTful APIs, Responsive Design, and Agile Methodology.',\n",
              " 'experience': ' Web Development Intern, BrightWave Solutions, Remote, Jan 2024-Apr 2024-Developed and maintained front-end components using React. js and Bootstrap . Created mobile-first responsive designs with UX teams . Improved website performance by 20% . Freelance Web Developer, Self-Employed, May 2023-Dec 2023, developed custom websites for local businesses .',\n",
              " 'projects': ' TaskMaster Web App-Built a full-stack task management app using React. js, Node.js, and MongoDB . Implemented user authentication and real-time notifications . Personal Portfolio Website-Designed and developed a personal website to showcase projects and blog posts .'}"
            ]
          },
          "metadata": {},
          "execution_count": 11
        }
      ]
    },
    {
      "cell_type": "code",
      "source": [
        "selected_jd"
      ],
      "metadata": {
        "colab": {
          "base_uri": "https://localhost:8080/"
        },
        "id": "2WjTsbreh23E",
        "outputId": "c3919ebb-df18-445f-b274-d0685258c5e8"
      },
      "execution_count": 12,
      "outputs": [
        {
          "output_type": "execute_result",
          "data": {
            "text/plain": [
              "{'summary': 'We are seeking a passionate Junior Web Developer to join our growing team. This role is ideal for someone who enjoys building responsive, user-friendly web applications and working in a collaborative, agile environment. You will support front-end and back-end development tasks, contribute to code reviews, and help ensure our applications perform efficiently across devices.',\n",
              " 'requirements': '- Proficiency in HTML5, CSS3, and JavaScript (ES6). - Familiarity with React.js, Node.js, Express.js. - Basic understanding of MongoDB and MySQL. - Experience with Git, GitHub, VS Code, and Postman. - Comfortable working with APIs and debugging front-endback-end issues. - Strong communication and problem-solving skills. - Willingness to learn and grow in a fast-paced development environment.',\n",
              " 'responsibilities': '- Develop and maintain responsive web pages using HTML5, CSS3, and JavaScript. - Work with React.js on the front end and Node.js  Express.js on the back end. - Design and consume RESTful APIs. - Collaborate with UIUX designers to implement mobile-first designs. - Use version control systems like Git and platforms such as GitHub. - Write clean, maintainable, and well-documented code. - Participate in Agile workflows including daily standups and sprint planning.',\n",
              " 'preferred_qualifications': '- Internship or freelance experience building real-world web applications. - Exposure to tools like Figma, Firebase, or Vercel.'}"
            ]
          },
          "metadata": {},
          "execution_count": 12
        }
      ]
    },
    {
      "cell_type": "code",
      "source": [
        "summarized_jd"
      ],
      "metadata": {
        "colab": {
          "base_uri": "https://localhost:8080/"
        },
        "id": "jBDJdAeeh5Ud",
        "outputId": "5803218a-ec8a-4b3a-d0a9-8f528cab1472"
      },
      "execution_count": 13,
      "outputs": [
        {
          "output_type": "execute_result",
          "data": {
            "text/plain": [
              "{'summary': ' We are seeking a passionate Junior Web Developer to join our growing team . This role is ideal for someone who enjoys building responsive, user-friendly web applications .',\n",
              " 'requirements': ' Proficiency in HTML5, CSS3, and JavaScript (ES6) Familiarity with React.js, Node.js and Express.js . Comfortable working with APIs and debugging front-end issues . Strong communication and problem-solving skills .',\n",
              " 'responsibilities': ' - Develop and maintain responsive web pages using HTML5, CSS3, and JavaScript . - Use version control systems like Git and platforms such as GitHub . - Participate in Agile workflows including daily standups and sprint planning . - Collaborate with UIUX designers to implement mobile-first designs .',\n",
              " 'preferred_qualifications': ' - Internship or freelance experience building real-world web applications . Exposure to tools like Figma, Firebase, or Vercel. - Exposure to Firebase .'}"
            ]
          },
          "metadata": {},
          "execution_count": 13
        }
      ]
    },
    {
      "cell_type": "code",
      "source": [
        "def build_prompt(selected_resume, selected_jd):\n",
        "    # Clean up the contact section to make it a simple sentence\n",
        "    # contact_sentence = f\"This resume belongs to {contact.replace('|', ',').strip().rstrip('.')}. Below are the key qualifications and experiences:\\n\"\n",
        "\n",
        "    # Format resume sections\n",
        "    resume_parts = [\n",
        "        f\"Summary: {selected_resume['summary']}\\n\",\n",
        "        f\"Skills: {selected_resume['skills']}\\n\",\n",
        "        f\"Experience: {selected_resume['experience']}\\n\",\n",
        "        f\"Projects: {selected_resume['projects']}\\n\"\n",
        "    ]\n",
        "    resume_text = \"\\n\".join(resume_parts)\n",
        "\n",
        "    # Format job description sections\n",
        "    jd_parts = [\n",
        "        f\"Job Summary: {selected_jd['summary']}\\n\",\n",
        "        f\"Responsibilities: {selected_jd['responsibilities']}\\n\",\n",
        "        f\"Requirements: {selected_jd['requirements']}\\n\",\n",
        "        f\"Preferred Qualifications: {selected_jd['preferred_qualifications']}\\n\"\n",
        "    ]\n",
        "    jd_text = \"\\n\".join(jd_parts)\n",
        "\n",
        "    score=8\n",
        "\n",
        "    # Final Prompt\n",
        "    prompt = (\n",
        "        # f\"{contact_sentence}\\n\"\n",
        "        f\"--- Resume ---\\n{resume_text}\\n\\n\"\n",
        "        f\"--- Job Description ---\\n{jd_text}\\n\\n\"\n",
        "        f\"--- Semantic Score ---\\nThe semantic score of this resume compare to the job description is {score}\\n\\n\"\n",
        "        # \"Based on the resume and the job description above, assess the candidate's suitability for the role. \"\n",
        "        # \"Highlight the most relevant qualifications, identify any skill gaps, and provide a short summary judgment.\"\n",
        "        \"--- Task ---\\n\"\n",
        "        \"Based on the resume, job description and their semantic score above, complete the following:\\n\"\n",
        "        \"1. In one sentence, explain why this score was given.\\n\"\n",
        "        \"3. In one sentence, suggest one specific improvement to strengthen the resume for this job.\\n\"\n",
        "        # \"Based on the resume and the job description above, give rating 1-10 about how strong this candidate's resume matching the job description.\"\n",
        "    )\n",
        "\n",
        "    return prompt\n",
        "\n",
        "prompt = build_prompt(\n",
        "    # contact=resume.get('contact', ''),\n",
        "    selected_resume=summarized_resume,\n",
        "    selected_jd=summarized_jd\n",
        ")\n",
        "\n",
        "print(prompt)\n"
      ],
      "metadata": {
        "colab": {
          "base_uri": "https://localhost:8080/"
        },
        "id": "lUpgFPaHiF6C",
        "outputId": "86c8fac5-5ba2-4934-ed75-3543ca9599d7"
      },
      "execution_count": 14,
      "outputs": [
        {
          "output_type": "stream",
          "name": "stdout",
          "text": [
            "--- Resume ---\n",
            "Summary:  Junior Web Developer with a strong foundation in front-end and back-end technologies . Skilled in building responsive, user-centric websites and applications . Passionate about learning new technologies and delivering high-quality code .\n",
            "\n",
            "Skills: This candidate is proficient in Languages: HTML5, CSS3, JavaScript (ES6+), Python Frameworks/Libraries: React. js, Node. js, Express. js, Bootstrap Databases: MongoDB, MySQL Tools: Git, GitHub, Visual Studio Code, Figma, Postman Other: RESTful APIs, Responsive Design, and Agile Methodology.\n",
            "\n",
            "Experience:  Web Development Intern, BrightWave Solutions, Remote, Jan 2024-Apr 2024-Developed and maintained front-end components using React. js and Bootstrap . Created mobile-first responsive designs with UX teams . Improved website performance by 20% . Freelance Web Developer, Self-Employed, May 2023-Dec 2023, developed custom websites for local businesses .\n",
            "\n",
            "Projects:  TaskMaster Web App-Built a full-stack task management app using React. js, Node.js, and MongoDB . Implemented user authentication and real-time notifications . Personal Portfolio Website-Designed and developed a personal website to showcase projects and blog posts .\n",
            "\n",
            "\n",
            "--- Job Description ---\n",
            "Job Summary:  We are seeking a passionate Junior Web Developer to join our growing team . This role is ideal for someone who enjoys building responsive, user-friendly web applications .\n",
            "\n",
            "Responsibilities:  - Develop and maintain responsive web pages using HTML5, CSS3, and JavaScript . - Use version control systems like Git and platforms such as GitHub . - Participate in Agile workflows including daily standups and sprint planning . - Collaborate with UIUX designers to implement mobile-first designs .\n",
            "\n",
            "Requirements:  Proficiency in HTML5, CSS3, and JavaScript (ES6) Familiarity with React.js, Node.js and Express.js . Comfortable working with APIs and debugging front-end issues . Strong communication and problem-solving skills .\n",
            "\n",
            "Preferred Qualifications:  - Internship or freelance experience building real-world web applications . Exposure to tools like Figma, Firebase, or Vercel. - Exposure to Firebase .\n",
            "\n",
            "\n",
            "--- Semantic Score ---\n",
            "The semantic score of this resume compare to the job description is 8\n",
            "\n",
            "--- Task ---\n",
            "Based on the resume, job description and their semantic score above, complete the following:\n",
            "1. In one sentence, explain why this score was given.\n",
            "3. In one sentence, suggest one specific improvement to strengthen the resume for this job.\n",
            "\n"
          ]
        }
      ]
    },
    {
      "cell_type": "code",
      "source": [
        "# final_report = compile_analysis(resume['contact'], analyses)\n",
        "# print(final_report)"
      ],
      "metadata": {
        "id": "5SGRoy7oJ4Sw"
      },
      "execution_count": 15,
      "outputs": []
    },
    {
      "cell_type": "markdown",
      "source": [
        "#new"
      ],
      "metadata": {
        "id": "YtvSgbNJ7Xa0"
      }
    },
    {
      "cell_type": "code",
      "source": [
        "!pip install -q transformers accelerate\n"
      ],
      "metadata": {
        "id": "n7avKuDuBttP"
      },
      "execution_count": 16,
      "outputs": []
    },
    {
      "cell_type": "code",
      "source": [
        "from transformers import AutoTokenizer, AutoModelForCausalLM, pipeline\n",
        "\n",
        "model_name = \"TinyLlama/TinyLlama-1.1B-Chat-v1.0\"\n",
        "tokenizer = AutoTokenizer.from_pretrained(model_name)\n",
        "model = AutoModelForCausalLM.from_pretrained(model_name)\n",
        "\n",
        "generator = pipeline(\"text-generation\", model=model, tokenizer=tokenizer)\n"
      ],
      "metadata": {
        "colab": {
          "base_uri": "https://localhost:8080/",
          "height": 817,
          "referenced_widgets": [
            "e27e14db72424fca888e029738882ce7",
            "5fd81cad5f8c4bf9b210310ecd000b7f",
            "84cbb2bf2b6f47f28d3bcc37017e6bfc",
            "d87f4fa8dfdc46f78a94598f7dec8a39",
            "da317d08b3b44609bc02ba86e1452f3c",
            "1ad6ea16f8e94a42b304eb2f9ab49b70",
            "5ce452afd5794c61894b3f8d9e248d3e",
            "55e018e34a7f452c8e1ad6831080857a",
            "6d8a1a639707460484ae271f8405fc3a",
            "d4bb13026bd741fdade0d27e108fbaba",
            "b36060fbd26d4c06b1c6c94472080e14",
            "8dc35b7fc3504601bef3119e28533839",
            "2805de2ec9c443b4914402159d36e10a",
            "3873391ec87e4b9292c7403b02489070",
            "8c2e45c1f9ce41c68d379037a19a864a",
            "26ebf1dc10fa428f8f71d8f60d74559b",
            "131cb14ff9cc40869d733b6a3bdad7bb",
            "c0192898605c483181249e59c0314076",
            "00d2942da26a46b3a36a0febbc700ca8",
            "b740fe46ad9d43ebb6e8e2abb5904768",
            "102ddf6153434fa7a8f564beb24ef57b",
            "18f1f013dd794a6ca76bb65e1388da0f",
            "444d913a92dd42968e2c8d8b08b932ca",
            "877efe5a558e47079f362ab5dec9adac",
            "afed7b71bd314a598d04e109c8262dc5",
            "cd7a7f5fa69441ba90518780e272f49c",
            "7ed802074a3f4c7dbdf1f7b99ccd120e",
            "bb3f6262b10f45eca364deb08e9ef095",
            "a7774eb66f98476fbd8d89bdde2d6b4d",
            "4815b6680cb649ba804f8181443502dd",
            "d2273bafd2d346afade7b9d0af08cfbc",
            "ad4f56db4bef4ecc881d6ffc3a9d3fd5",
            "fd9d17a34b364bbf8e9ca2f0147bf34d",
            "96a3c6d24c7c46ffab5633400825fe85",
            "a9408fbc69f7415f82c9621c6f472c68",
            "6b450d22922a4d3598a312e89794a8fe",
            "83349961ae2c4a409e424cdeb083f079",
            "6693b597647541c19669ded57d859caf",
            "ac822f5de81a413f9f8160e4e3adbf3b",
            "8ef0f2d863ba47faab53c59feeb43dde",
            "60f58d43f12142e892152158729f0370",
            "bc4ff59958a946388d23785b3bf3dd87",
            "47fce0de32004746b389b889451e4a69",
            "283665d687824ad4a397fec54bcaa063",
            "020560385b4447789c3b4790f6e81b28",
            "e7557e9b95ca43e5a638e026af42b0a3",
            "c2f9f58b4226423fb8fe25b49d1c4891",
            "f15047ad4f584e669802d06f6a82a234",
            "ad56102612774d62beab3540fbc445c8",
            "1591d96c5188434a9c07fb23b4df22f7",
            "915155a423d44711bdd329b3f2ff09ad",
            "c6f1e6041d204b989c8c2111ae633eb8",
            "97ae53b2a42d45cea77e14803f19714b",
            "5c1946d8ba774db395ce193c20d3d781",
            "2d3eb29bc99744f49652ef311081d34e",
            "3ad912040c9b4a288e13598760b0a562",
            "be3a1d88907645cea2f7add4bc7be803",
            "06c775a2de1e46fe837fa1b30236c5e9",
            "8067d1e38fb64ef185eca7b6c087c24d",
            "c2dbd16f94954d29b5fd7fb3d0f4e8a0",
            "a5de4bed6aa14213b79a27ffb29ff0f3",
            "1101122c0fa74fea810d2397dcb2a795",
            "cfbc89f0acab464d851c9d708f786519",
            "790618c88cb148c8b02ee6830ecfb1cb",
            "2303510ba0714baf8c2235fa6d141339",
            "5d40139061c846b88cc19bac1b375ff9",
            "ed0b7f93956f4f518a7d371fc767ec3a",
            "2a5a3cf5d13b431a9b30600696974466",
            "8800af9a5bc94a8da5ae0d9477696dcc",
            "f9c7f94505844c78aa8fc0c7612638ae",
            "a458577588c8433ea0f46404e5ffeef8",
            "b05f4622b2b54190ae0d13a078512c29",
            "a68eea0a7b4e4f79a94797f2d5e853c6",
            "42093612861740ed8605a4e642e7b664",
            "626812507af143beb1af69f49935756a",
            "62321bc06b0a446f8ff988d46971f669",
            "0114a2974af442a7aa60e830de414b65"
          ]
        },
        "id": "h-voZqG1Bx41",
        "outputId": "3c8bf346-3fed-48ff-ad48-975f30ba628f"
      },
      "execution_count": 17,
      "outputs": [
        {
          "output_type": "display_data",
          "data": {
            "text/plain": [
              "tokenizer_config.json:   0%|          | 0.00/1.29k [00:00<?, ?B/s]"
            ],
            "application/vnd.jupyter.widget-view+json": {
              "version_major": 2,
              "version_minor": 0,
              "model_id": "e27e14db72424fca888e029738882ce7"
            }
          },
          "metadata": {}
        },
        {
          "output_type": "display_data",
          "data": {
            "text/plain": [
              "tokenizer.model:   0%|          | 0.00/500k [00:00<?, ?B/s]"
            ],
            "application/vnd.jupyter.widget-view+json": {
              "version_major": 2,
              "version_minor": 0,
              "model_id": "8dc35b7fc3504601bef3119e28533839"
            }
          },
          "metadata": {}
        },
        {
          "output_type": "display_data",
          "data": {
            "text/plain": [
              "tokenizer.json:   0%|          | 0.00/1.84M [00:00<?, ?B/s]"
            ],
            "application/vnd.jupyter.widget-view+json": {
              "version_major": 2,
              "version_minor": 0,
              "model_id": "444d913a92dd42968e2c8d8b08b932ca"
            }
          },
          "metadata": {}
        },
        {
          "output_type": "display_data",
          "data": {
            "text/plain": [
              "special_tokens_map.json:   0%|          | 0.00/551 [00:00<?, ?B/s]"
            ],
            "application/vnd.jupyter.widget-view+json": {
              "version_major": 2,
              "version_minor": 0,
              "model_id": "96a3c6d24c7c46ffab5633400825fe85"
            }
          },
          "metadata": {}
        },
        {
          "output_type": "display_data",
          "data": {
            "text/plain": [
              "config.json:   0%|          | 0.00/608 [00:00<?, ?B/s]"
            ],
            "application/vnd.jupyter.widget-view+json": {
              "version_major": 2,
              "version_minor": 0,
              "model_id": "020560385b4447789c3b4790f6e81b28"
            }
          },
          "metadata": {}
        },
        {
          "output_type": "display_data",
          "data": {
            "text/plain": [
              "model.safetensors:   0%|          | 0.00/2.20G [00:00<?, ?B/s]"
            ],
            "application/vnd.jupyter.widget-view+json": {
              "version_major": 2,
              "version_minor": 0,
              "model_id": "3ad912040c9b4a288e13598760b0a562"
            }
          },
          "metadata": {}
        },
        {
          "output_type": "display_data",
          "data": {
            "text/plain": [
              "generation_config.json:   0%|          | 0.00/124 [00:00<?, ?B/s]"
            ],
            "application/vnd.jupyter.widget-view+json": {
              "version_major": 2,
              "version_minor": 0,
              "model_id": "ed0b7f93956f4f518a7d371fc767ec3a"
            }
          },
          "metadata": {}
        },
        {
          "output_type": "stream",
          "name": "stderr",
          "text": [
            "Device set to use cpu\n"
          ]
        },
        {
          "output_type": "stream",
          "name": "stdout",
          "text": [
            "--- Resume ---\n",
            "Summary:  Junior Web Developer with a strong foundation in front-end and back-end technologies . Skilled in building responsive, user-centric websites and applications . Passionate about learning new technologies and delivering high-quality code .\n",
            "\n",
            "Skills: This candidate is proficient in Languages: HTML5, CSS3, JavaScript (ES6+), Python Frameworks/Libraries: React. js, Node. js, Express. js, Bootstrap Databases: MongoDB, MySQL Tools: Git, GitHub, Visual Studio Code, Figma, Postman Other: RESTful APIs, Responsive Design, and Agile Methodology.\n",
            "\n",
            "Experience:  Web Development Intern, BrightWave Solutions, Remote, Jan 2024-Apr 2024-Developed and maintained front-end components using React. js and Bootstrap . Created mobile-first responsive designs with UX teams . Improved website performance by 20% . Freelance Web Developer, Self-Employed, May 2023-Dec 2023, developed custom websites for local businesses .\n",
            "\n",
            "Projects:  TaskMaster Web App-Built a full-stack task management app using React. js, Node.js, and MongoDB . Implemented user authentication and real-time notifications . Personal Portfolio Website-Designed and developed a personal website to showcase projects and blog posts .\n",
            "\n",
            "\n",
            "--- Job Description ---\n",
            "Job Summary:  We are seeking a passionate Junior Web Developer to join our growing team . This role is ideal for someone who enjoys building responsive, user-friendly web applications .\n",
            "\n",
            "Responsibilities:  - Develop and maintain responsive web pages using HTML5, CSS3, and JavaScript . - Use version control systems like Git and platforms such as GitHub . - Participate in Agile workflows including daily standups and sprint planning . - Collaborate with UIUX designers to implement mobile-first designs .\n",
            "\n",
            "Requirements:  Proficiency in HTML5, CSS3, and JavaScript (ES6) Familiarity with React.js, Node.js and Express.js . Comfortable working with APIs and debugging front-end issues . Strong communication and problem-solving skills .\n",
            "\n",
            "Preferred Qualifications:  - Internship or freelance experience building real-world web applications . Exposure to tools like Figma, Firebase, or Vercel. - Exposure to Firebase .\n",
            "\n",
            "\n",
            "--- Semantic Score ---\n",
            "The semantic score of this resume compare to the job description is 8\n",
            "\n",
            "--- Task ---\n",
            "Based on the resume, job description and their semantic score above, complete the following:\n",
            "1. In one sentence, explain why this score was given.\n",
            "3. In one sentence, suggest one specific improvement to strengthen the resume for this job.\n",
            "4. In one sentence, explain how this candidate's experience and skills align with the job requirements.\n",
            "5. In one sentence, explain how this candidate's experience and skills can benefit the company.\n",
            "6. In one sentence, explain how this candidate's experience and skills can benefit the company in terms of their potential contribution to the team.\n",
            "7. In one sentence, explain how this candidate's experience and skills can benefit the company in terms of their potential contribution to the\n"
          ]
        }
      ]
    },
    {
      "cell_type": "code",
      "source": [
        "\n",
        "output = generator(prompt, max_new_tokens=100, do_sample=False)\n",
        "print(output[0][\"generated_text\"])\n"
      ],
      "metadata": {
        "colab": {
          "base_uri": "https://localhost:8080/"
        },
        "id": "cyj4yHmnCiIt",
        "outputId": "f38fe482-6c57-4573-e475-e15f30c4e122"
      },
      "execution_count": 18,
      "outputs": [
        {
          "output_type": "stream",
          "name": "stdout",
          "text": [
            "--- Resume ---\n",
            "Summary:  Junior Web Developer with a strong foundation in front-end and back-end technologies . Skilled in building responsive, user-centric websites and applications . Passionate about learning new technologies and delivering high-quality code .\n",
            "\n",
            "Skills: This candidate is proficient in Languages: HTML5, CSS3, JavaScript (ES6+), Python Frameworks/Libraries: React. js, Node. js, Express. js, Bootstrap Databases: MongoDB, MySQL Tools: Git, GitHub, Visual Studio Code, Figma, Postman Other: RESTful APIs, Responsive Design, and Agile Methodology.\n",
            "\n",
            "Experience:  Web Development Intern, BrightWave Solutions, Remote, Jan 2024-Apr 2024-Developed and maintained front-end components using React. js and Bootstrap . Created mobile-first responsive designs with UX teams . Improved website performance by 20% . Freelance Web Developer, Self-Employed, May 2023-Dec 2023, developed custom websites for local businesses .\n",
            "\n",
            "Projects:  TaskMaster Web App-Built a full-stack task management app using React. js, Node.js, and MongoDB . Implemented user authentication and real-time notifications . Personal Portfolio Website-Designed and developed a personal website to showcase projects and blog posts .\n",
            "\n",
            "\n",
            "--- Job Description ---\n",
            "Job Summary:  We are seeking a passionate Junior Web Developer to join our growing team . This role is ideal for someone who enjoys building responsive, user-friendly web applications .\n",
            "\n",
            "Responsibilities:  - Develop and maintain responsive web pages using HTML5, CSS3, and JavaScript . - Use version control systems like Git and platforms such as GitHub . - Participate in Agile workflows including daily standups and sprint planning . - Collaborate with UIUX designers to implement mobile-first designs .\n",
            "\n",
            "Requirements:  Proficiency in HTML5, CSS3, and JavaScript (ES6) Familiarity with React.js, Node.js and Express.js . Comfortable working with APIs and debugging front-end issues . Strong communication and problem-solving skills .\n",
            "\n",
            "Preferred Qualifications:  - Internship or freelance experience building real-world web applications . Exposure to tools like Figma, Firebase, or Vercel. - Exposure to Firebase .\n",
            "\n",
            "\n",
            "--- Semantic Score ---\n",
            "The semantic score of this resume compare to the job description is 8\n",
            "\n",
            "--- Task ---\n",
            "Based on the resume, job description and their semantic score above, complete the following:\n",
            "1. In one sentence, explain why this score was given.\n",
            "3. In one sentence, suggest one specific improvement to strengthen the resume for this job.\n",
            "4. In one sentence, explain how this candidate's experience and skills align with the job requirements.\n",
            "5. In one sentence, explain how this candidate's experience and skills can benefit the company.\n",
            "6. In one sentence, explain how this candidate's experience and skills can benefit the company in terms of their potential contribution to the team.\n",
            "7. In one sentence, explain how this candidate's experience and skills can benefit the company in terms of their potential contribution to the\n"
          ]
        }
      ]
    },
    {
      "cell_type": "code",
      "source": [
        "output"
      ],
      "metadata": {
        "colab": {
          "base_uri": "https://localhost:8080/"
        },
        "id": "2xnoaP_zCjMk",
        "outputId": "a31f2e29-76f0-4413-cc9f-0b2c4f31cd82"
      },
      "execution_count": 19,
      "outputs": [
        {
          "output_type": "execute_result",
          "data": {
            "text/plain": [
              "[{'generated_text': \"--- Resume ---\\nSummary:  Junior Web Developer with a strong foundation in front-end and back-end technologies . Skilled in building responsive, user-centric websites and applications . Passionate about learning new technologies and delivering high-quality code .\\n\\nSkills: This candidate is proficient in Languages: HTML5, CSS3, JavaScript (ES6+), Python Frameworks/Libraries: React. js, Node. js, Express. js, Bootstrap Databases: MongoDB, MySQL Tools: Git, GitHub, Visual Studio Code, Figma, Postman Other: RESTful APIs, Responsive Design, and Agile Methodology.\\n\\nExperience:  Web Development Intern, BrightWave Solutions, Remote, Jan 2024-Apr 2024-Developed and maintained front-end components using React. js and Bootstrap . Created mobile-first responsive designs with UX teams . Improved website performance by 20% . Freelance Web Developer, Self-Employed, May 2023-Dec 2023, developed custom websites for local businesses .\\n\\nProjects:  TaskMaster Web App-Built a full-stack task management app using React. js, Node.js, and MongoDB . Implemented user authentication and real-time notifications . Personal Portfolio Website-Designed and developed a personal website to showcase projects and blog posts .\\n\\n\\n--- Job Description ---\\nJob Summary:  We are seeking a passionate Junior Web Developer to join our growing team . This role is ideal for someone who enjoys building responsive, user-friendly web applications .\\n\\nResponsibilities:  - Develop and maintain responsive web pages using HTML5, CSS3, and JavaScript . - Use version control systems like Git and platforms such as GitHub . - Participate in Agile workflows including daily standups and sprint planning . - Collaborate with UIUX designers to implement mobile-first designs .\\n\\nRequirements:  Proficiency in HTML5, CSS3, and JavaScript (ES6) Familiarity with React.js, Node.js and Express.js . Comfortable working with APIs and debugging front-end issues . Strong communication and problem-solving skills .\\n\\nPreferred Qualifications:  - Internship or freelance experience building real-world web applications . Exposure to tools like Figma, Firebase, or Vercel. - Exposure to Firebase .\\n\\n\\n--- Semantic Score ---\\nThe semantic score of this resume compare to the job description is 8\\n\\n--- Task ---\\nBased on the resume, job description and their semantic score above, complete the following:\\n1. In one sentence, explain why this score was given.\\n3. In one sentence, suggest one specific improvement to strengthen the resume for this job.\\n4. In one sentence, explain how this candidate's experience and skills align with the job requirements.\\n5. In one sentence, explain how this candidate's experience and skills can benefit the company.\\n6. In one sentence, explain how this candidate's experience and skills can benefit the company in terms of their potential contribution to the team.\\n7. In one sentence, explain how this candidate's experience and skills can benefit the company in terms of their potential contribution to the\"}]"
            ]
          },
          "metadata": {},
          "execution_count": 19
        }
      ]
    },
    {
      "cell_type": "markdown",
      "source": [
        "#Were fine tuning babe"
      ],
      "metadata": {
        "id": "vn9_9eOAE1Ma"
      }
    },
    {
      "cell_type": "code",
      "source": [
        "print(\"\"\"prompt\": \"Resume: ... \\nJob Description: ... \\nSemantic Score: 8\\nTask: Rate and comment\", \"completion\": \"1. This candidate scores 8 because... 2. Improvement suggestion: ... 3. Alignment: ...\"\"\")"
      ],
      "metadata": {
        "colab": {
          "base_uri": "https://localhost:8080/"
        },
        "id": "RkXNlMqPE3la",
        "outputId": "c5e28e71-8679-46ab-d736-02e845deee73"
      },
      "execution_count": 22,
      "outputs": [
        {
          "output_type": "stream",
          "name": "stdout",
          "text": [
            "prompt\": \"Resume: ... \n",
            "Job Description: ... \n",
            "Semantic Score: 8\n",
            "Task: Rate and comment\", \"completion\": \"1. This candidate scores 8 because... 2. Improvement suggestion: ... 3. Alignment: ...\n"
          ]
        }
      ]
    },
    {
      "cell_type": "markdown",
      "source": [
        "**GENERATE TRAINING DATA**"
      ],
      "metadata": {
        "id": "S4ERcY23Ggf8"
      }
    },
    {
      "cell_type": "code",
      "source": [],
      "metadata": {
        "id": "hmf65rhCdjlP"
      },
      "execution_count": null,
      "outputs": []
    }
  ]
}